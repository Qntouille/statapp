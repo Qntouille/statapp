{
 "cells": [
  {
   "cell_type": "code",
   "execution_count": 1,
   "id": "68db66da",
   "metadata": {},
   "outputs": [
    {
     "ename": "SyntaxError",
     "evalue": "invalid syntax (867842592.py, line 1)",
     "output_type": "error",
     "traceback": [
      "\u001b[0;36m  Cell \u001b[0;32mIn[1], line 1\u001b[0;36m\u001b[0m\n\u001b[0;31m    pip install pandas dbfread\u001b[0m\n\u001b[0m        ^\u001b[0m\n\u001b[0;31mSyntaxError\u001b[0m\u001b[0;31m:\u001b[0m invalid syntax\n"
     ]
    }
   ],
   "source": [
    "pip install pandas dbfread\n",
    "import os, requests, zipfile, io\n",
    "import pandas as pd, numpy as np\n",
    "import matplotlib.dates as mdates\n",
    "import s3fs\n",
    "import bs4\n",
    "from dbfread import DBF"
   ]
  },
  {
   "cell_type": "code",
   "execution_count": null,
   "id": "3a88a478",
   "metadata": {},
   "outputs": [],
   "source": [
    "# URL du fichier à télécharger\n",
    "url = \"https://www.insee.fr/fr/statistiques/fichier/5359146/dossier_complet.zip\""
   ]
  },
  {
   "cell_type": "code",
   "execution_count": null,
   "id": "184491ec",
   "metadata": {},
   "outputs": [],
   "source": [
    "# Répertoire où enregistrer le fichier\n",
    "destination_folder = \"../donnees_insee\""
   ]
  },
  {
   "cell_type": "code",
   "execution_count": null,
   "id": "5c904d06",
   "metadata": {},
   "outputs": [],
   "source": [
    "# Télécharger le fichier ZIP\n",
    "response = requests.get(url)\n",
    "if response.status_code == 200:\n",
    "# Extraire le contenu directement\n",
    "with zipfile.ZipFile(io.BytesIO(response.content)) as z:\n",
    "z.extractall(destination_folder)\n",
    "print(f\"Fichier extrait dans {destination_folder}\")\n",
    "else:\n",
    "print(\"Erreur lors du téléchargement :\", response.status_code)"
   ]
  },
  {
   "cell_type": "code",
   "execution_count": null,
   "id": "12940ea1",
   "metadata": {},
   "outputs": [],
   "source": [
    "# Vérification des fichiers extraits\n",
    "print(\"Fichiers extraits :\", os.listdir(destination_folder))"
   ]
  },
  {
   "cell_type": "code",
   "execution_count": null,
   "id": "b302d605",
   "metadata": {},
   "outputs": [],
   "source": [
    "# Chemin vers le dossier contenant les fichiers extraits\n",
    "dossier_csv = \"../donnees_insee\"\n",
    "\n",
    "\n",
    "# Lister les fichiers du dossier\n",
    "fichiers = os.listdir(dossier_csv)\n",
    "\n",
    "\n",
    "# Charger tous les fichiers CSV en DataFrame\n",
    "dataframes = {}\n",
    "for fichier in fichiers:\n",
    "if fichier.endswith(\".csv\"):\n",
    "chemin_fichier = os.path.join(dossier_csv, fichier)\n",
    "df = pd.read_csv(chemin_fichier, delimiter=';', encoding='utf-8')\n",
    "# Utilisation du nom du fichier (sans extension) comme clé du DataFrame\n",
    "nom_df = os.path.splitext(fichier)[0]\n",
    "dataframes[nom_df] = df\n",
    "print(f\"{fichier} chargé avec succès.\")"
   ]
  },
  {
   "cell_type": "code",
   "execution_count": null,
   "id": "820a9483",
   "metadata": {},
   "outputs": [],
   "source": [
    "df_dossier_complet = dataframes['dossier_complet']\n",
    "df_meta_dossier_complet = dataframes['meta_dossier_complet']\n",
    "df_meta_dossier_complet.head()\n",
    "df_meta_dossier_complet.info()\n",
    "df_dossier_complet.info()\n",
    "# URL du fichier à télécharger\n",
    "url = \"https://www.insee.fr/fr/statistiques/fichier/7637844/RP2020_mobpro_dbf.zip\"\n",
    "\n",
    "\n",
    "# Dossier de destination\n",
    "destination_folder = \"./donnees_insee\"\n",
    "\n",
    "\n",
    "# Créer le dossier s'il n'existe pas\n",
    "os.makedirs(destination_folder, exist_ok=True)\n",
    "\n",
    "\n",
    "# Chemin complet pour enregistrer le fichier ZIP\n",
    "fichier_zip = os.path.join(destination_folder, \"RP2020_mobpro_dbf.zip\")\n",
    "\n",
    "\n",
    "# Téléchargement du fichier ZIP\n",
    "print(\"Téléchargement en cours...\")\n",
    "response = requests.get(url, stream=True)\n",
    "if response.status_code == 200:\n",
    "with open(fichier_zip, \"wb\") as file:\n",
    "for chunk in response.iter_content(chunk_size=8192):\n",
    "file.write(chunk)\n",
    "print(\"Téléchargement terminé :\", fichier_zip)\n",
    "else:\n",
    "print(\"Erreur lors du téléchargement :\", response.status_code)\n",
    "raise Exception(\"Échec du téléchargement.\")\n",
    "\n",
    "\n",
    "# Décompression du fichier ZIP\n",
    "print(\"Décompression en cours...\")\n",
    "with zipfile.ZipFile(fichier_zip, 'r') as zip_ref:\n",
    "zip_ref.extractall(destination_folder)\n",
    "print(\"Décompression terminée.\")\n",
    "\n",
    "\n",
    "# Vérification des fichiers extraits\n",
    "fichiers = os.listdir(destination_folder)\n",
    "print(\"Fichiers présents après décompression :\", fichiers)\n",
    "\n",
    "\n",
    "# Suppression du fichier ZIP après extraction (optionnel)\n",
    "os.remove(fichier_zip)\n",
    "print(\"Fichier ZIP supprimé après extraction.\")"
   ]
  },
  {
   "cell_type": "code",
   "execution_count": null,
   "id": "4fc630d3",
   "metadata": {},
   "outputs": [],
   "source": [
    "# Chemin vers le dossier contenant les fichiers extraits\n",
    "dossier_dbf = \"./donnees_insee\"\n",
    "\n",
    "\n",
    "# Noms des deux fichiers DBF à lire\n",
    "fichier_1 = \"FD_MOBPRO_2020.dbf\"\n",
    "fichier_2 = \"Varmod_MOBPRO_2020.dbf\"\n",
    "\n",
    "\n",
    "\n",
    "\n",
    "# Lire le premier fichier DBF avec encodage latin1\n",
    "chemin_fichier_1 = os.path.join(dossier_dbf, fichier_1)\n",
    "table_1 = DBF(chemin_fichier_1, encoding='latin1')\n",
    "df_mobpro = pd.DataFrame(iter(table_1))\n",
    "print(f\"{fichier_1} chargé avec succès.\")\n",
    "print(df_mobpro.head())\n",
    "\n",
    "\n",
    "# Lire le deuxième fichier DBF avec encodage latin1\n",
    "chemin_fichier_2 = os.path.join(dossier_dbf, fichier_2)\n",
    "table_2 = DBF(chemin_fichier_2, encoding='latin1')\n",
    "df_meta_mobpro = pd.DataFrame(iter(table_2))\n",
    "print(f\"{fichier_2} chargé avec succès.\")\n",
    "print(df_meta_mobpro.head())"
   ]
  },
  {
   "cell_type": "code",
   "execution_count": null,
   "id": "d58d1fa3",
   "metadata": {},
   "outputs": [],
   "source": [
    "test"
   ]
  },
  {
   "cell_type": "code",
   "execution_count": null,
   "id": "fb9b8814",
   "metadata": {},
   "outputs": [],
   "source": []
  }
 ],
 "metadata": {
  "kernelspec": {
   "display_name": "base",
   "language": "python",
   "name": "python3"
  },
  "language_info": {
   "codemirror_mode": {
    "name": "ipython",
    "version": 3
   },
   "file_extension": ".py",
   "mimetype": "text/x-python",
   "name": "python",
   "nbconvert_exporter": "python",
   "pygments_lexer": "ipython3",
   "version": "3.12.7"
  }
 },
 "nbformat": 4,
 "nbformat_minor": 5
}
