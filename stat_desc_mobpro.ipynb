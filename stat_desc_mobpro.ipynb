{
 "cells": [
  {
   "cell_type": "code",
   "execution_count": null,
   "metadata": {},
   "outputs": [],
   "source": [
    "from script import df_mobpro_brut, arr_marseille, arr_paris, arr_lyon, contours_comm, transport_dict, contours_comm, flux, plot_flux_gradient, plot_flux_gradient_zoom, coord_villes\n",
    "from script import df_dossier_complet_brut\n",
    "import matplotlib.pyplot as plt\n",
    "import pandas as pd\n",
    "import geopandas as gpd\n",
    "import seaborn as sns\n",
    "import numpy as np\n",
    "import matplotlib.colors as colors\n",
    "from scipy.sparse import coo_matrix"
   ]
  },
  {
   "cell_type": "code",
   "execution_count": null,
   "metadata": {},
   "outputs": [],
   "source": [
    "df_mobpro_brut.head()"
   ]
  },
  {
   "cell_type": "markdown",
   "metadata": {},
   "source": [
    "Ce que signifient chacune des en-têtes de colonnes :  \n",
    "COMMUNE Département et commune du lieu de résidence  \n",
    "ARM Arrondissement municipal de résidence (Paris, Lyon et Marseille)  \n",
    "DCFLT Commune frontalière du lieu de travail  \n",
    "DCLT Département, commune et arrondissement municipal (Paris, Lyon, Marseille) du lieu de travail  \n",
    "AGEREVQ Âge quinquennal en années révolues  \n",
    "CS1 Catégorie socioprofessionnelle en 8 postes  \n",
    "DEROU Nombre de deux-roues à moteur du ménage (DOM)  \n",
    "DIPL_15 Diplôme le plus élevé  \n",
    "EMPL Condition d'emploi  \n",
    "ILTUU Indicateur urbain du lieu de travail  \n",
    "ILT Indicateur du lieu de travail  \n",
    "IMMI Situation quant à l'immigration  \n",
    "INATC Indicateur de nationalité condensé (Français/Étranger)  \n",
    "INEEM Nombre d'élèves, étudiants ou stagiaires âgés de 14 ans ou plus du ménage  \n",
    "INPOM Nombre de personnes actives ayant un emploi du ménage  \n",
    "INPSM Nombre de personnes scolarisées du ménage  \n",
    "IPONDI Poids de l'individu  \n",
    "LPRM Lien à la personne de référence du ménage  \n",
    "METRODOM Indicateur Métropole ou DOM du lieu de résidence  \n",
    "MOCO Mode de cohabitation  \n",
    "NA5 Activité économique regroupée en 5 postes  \n",
    "NPERR Nombre de personnes du ménage (regroupé)  \n",
    "REGION Région du lieu de résidence  \n",
    "REGLT Région du lieu de travail  \n",
    "SEXE Sexe  \n",
    "STAT Statut professionnel  \n",
    "STOCD Statut d'occupation détaillé du logement  \n",
    "TP Temps de travail  \n",
    "TRANS Mode de transport principal le plus souvent utilisé pour aller travailler  \n",
    "TYPL Type de logement  \n",
    "TYPMR Type de ménage regroupé (en 9 postes)  \n",
    "VOIT Nombre de voitures du ménage  "
   ]
  },
  {
   "cell_type": "code",
   "execution_count": null,
   "metadata": {},
   "outputs": [],
   "source": [
    "# Distribution des modes de transport utilisés pour aller travailler\n",
    "transport_distribution = df_mobpro_brut['TRANS_LABEL'].value_counts()\n",
    "print(transport_distribution)\n",
    "\n",
    "# Visualisation\n",
    "transport_distribution.plot(kind='bar', color='skyblue')\n",
    "plt.xticks(rotation=45, ha='right', rotation_mode='anchor')\n",
    "plt.title('Distribution des modes de transport')\n",
    "plt.xlabel('Mode de transport')\n",
    "plt.ylabel('Nombre d’individus')\n",
    "plt.show()"
   ]
  },
  {
   "cell_type": "code",
   "execution_count": null,
   "metadata": {},
   "outputs": [],
   "source": [
    "# Âge moyen par mode de transport\n",
    "age_transport = df_mobpro_brut.groupby('TRANS_LABEL')['AGEREVQ'].mean()\n",
    "print(age_transport)\n",
    "\n",
    "# Visualisation\n",
    "age_transport.plot(kind='bar', color='orange')\n",
    "plt.xticks(rotation=45, ha='right', rotation_mode='anchor')\n",
    "plt.title('Âge moyen par mode de transport')\n",
    "plt.xlabel('Mode de transport')\n",
    "plt.ylabel('Âge moyen')\n",
    "plt.show()\n"
   ]
  },
  {
   "cell_type": "code",
   "execution_count": null,
   "metadata": {},
   "outputs": [],
   "source": [
    "# Distribution des modes de transport par catégorie socio-professionnelle avec labels\n",
    "cs1_transport = pd.crosstab(df_mobpro_brut['CS_LABEL'], df_mobpro_brut['TRANS_LABEL'])\n",
    "\n",
    "# Heatmap\n",
    "sns.heatmap(cs1_transport, annot=True, fmt='d', cmap='Blues')\n",
    "plt.title('Modes de transport par catégorie socio-professionnelle')\n",
    "plt.xlabel('Mode de transport')\n",
    "\n",
    "# Inclinaison des labels avec alignement pour que l'extrémité pointe vers l'axe\n",
    "plt.xticks(rotation=45, ha='right', rotation_mode='anchor')\n",
    "plt.ylabel('Catégorie socio-professionnelle')\n",
    "plt.show()\n"
   ]
  },
  {
   "cell_type": "markdown",
   "metadata": {},
   "source": [
    "La fonction ci-dessous permet d'obtenir un premier tableau regroupant certaines informations par commune :\n",
    "- Nombre de personnes du ménage (regroupé)\n",
    "- Nombre de personnes scolarisées du ménage\n",
    "- Nombre de personnes actives ayant un emploi du ménage\n",
    "- Nombre d'élèves, étudiants ou stagiaires âgés de 14 ans ou plus du ménage\n",
    "- Indicateur du lieu de travail\n",
    "(1 Dans la commune de résidence actuelle\n",
    "2 Dans une autre commune du département de résidence\n",
    "3 Dans un autre département de la région de résidence\n",
    "4 Hors de la région de résidence actuelle : en métropole\n",
    "5 Hors de la région de résidence actuelle : dans un DOM\n",
    "6 Hors de la région de résidence actuelle : dans une COM\n",
    "7 A l'étranger)"
   ]
  },
  {
   "cell_type": "code",
   "execution_count": null,
   "metadata": {},
   "outputs": [],
   "source": [
    "# Conversion des colonnes en numérique\n",
    "df_mobpro_brut['NPERR'] = pd.to_numeric(df_mobpro_brut['NPERR'], errors='coerce')\n",
    "df_mobpro_brut['INPSM'] = pd.to_numeric(df_mobpro_brut['INPSM'], errors='coerce')\n",
    "df_mobpro_brut['INPOM'] = pd.to_numeric(df_mobpro_brut['INPOM'], errors='coerce')\n",
    "df_mobpro_brut['INEEM'] = pd.to_numeric(df_mobpro_brut['INEEM'], errors='coerce')\n",
    "\n",
    "# Création des agrégations de base\n",
    "mobpro_villes = df_mobpro_brut.groupby('COMMUNE').agg({\n",
    "    'NPERR': 'sum',\n",
    "    'INPSM': 'sum',\n",
    "    'INPOM': 'sum',\n",
    "    'INEEM': 'sum'})\n",
    "\n",
    "# Créons d'abord un DataFrame temporaire pour chaque valeur d'ILT\n",
    "for i in range(1, 8):\n",
    "    # Grouper par COMMUNE et compter les occurrences où ILT == str(i)\n",
    "    temp_count = df_mobpro_brut[df_mobpro_brut['ILT'] == i].groupby('COMMUNE').size()\n",
    "    # Ajouter cette série au DataFrame principal\n",
    "    mobpro_villes[f'ILT_{i}'] = temp_count\n",
    "\n",
    "# Remplir les valeurs manquantes (NaN) par 0\n",
    "mobpro_villes = mobpro_villes.fillna(0)\n",
    "\n",
    "# Réinitialisation de l'index\n",
    "mobpro_villes = mobpro_villes.reset_index()"
   ]
  },
  {
   "cell_type": "code",
   "execution_count": null,
   "metadata": {},
   "outputs": [],
   "source": [
    "mobpro_villes.head()"
   ]
  },
  {
   "cell_type": "markdown",
   "metadata": {},
   "source": [
    "On souhaite créer une matrice des flux pour avoir une vision générale des trajets domicile-travail quotidiens entre les villes. Pour chaque couple de ville, le nombre correspondant dans la matrice correspond au nombre de commute effectué de la ville 1 à la ville 2. \n",
    "\n",
    "On remarque que pour la variable \"COMMUNE\" (commune de résidence) on a uniquement 75056 pour Paris (idem pour Lyon et Marseille), tandis que pour la variable \"DCLT\" (commune de travail) on a un découpage en arrondissement avec les codes 75101,... pour Paris (idem pour Lyon et Marseille). Afin de pallier cette différence, on se cale sur l'échelle des arrondissements en remplaçant la valeur de \"COMMUNE\" par celle de \"ARM\" lorsque la ville en question est Paris, Marseille ou Lyon."
   ]
  },
  {
   "cell_type": "code",
   "execution_count": null,
   "metadata": {},
   "outputs": [],
   "source": [
    "# Création d'une table croisée dynamique pour compter les déplacements\n",
    "flux_tot = pd.crosstab(df_mobpro_brut['COMMUNE'], df_mobpro_brut['DCLT'])\n",
    "\n",
    "# Conversion en DataFrame pour plus de clarté\n",
    "flux_tot = pd.DataFrame(flux_tot)\n",
    "\n",
    "\n",
    "# Pour voir les dimensions de la matrice\n",
    "print(\"Dimensions de la matrice :\", flux_tot.shape)\n",
    "\n",
    "# Filtrer les données pour chaque groupe de transport\n",
    "df_trans_45 = df_mobpro_brut[df_mobpro_brut['TRANS'].isin([4, 5])]\n",
    "df_trans_6 = df_mobpro_brut[df_mobpro_brut['TRANS'] == 6]\n",
    "df_trans_123 = df_mobpro_brut[df_mobpro_brut['TRANS'].isin([1, 2, 3])]\n",
    "\n",
    "# Créer les matrices des flux pour chaque groupe\n",
    "flux_rouge = pd.crosstab(df_trans_45['COMMUNE'], df_trans_45['DCLT'])\n",
    "flux_jaune = pd.crosstab(df_trans_6['COMMUNE'], df_trans_6['DCLT'])\n",
    "flux_vert = pd.crosstab(df_trans_123['COMMUNE'], df_trans_123['DCLT'])\n",
    "\n",
    "# Convertir en DataFrame pour plus de clarté\n",
    "flux_rouge = pd.DataFrame(flux_rouge)\n",
    "flux_jaune = pd.DataFrame(flux_jaune)\n",
    "flux_vert = pd.DataFrame(flux_vert)\n",
    "\n",
    "# Afficher les dimensions des matrices\n",
    "print(\"Dimensions de la matrice (TRANS = 4 ou 5) :\", flux_rouge.shape)\n",
    "print(\"Dimensions de la matrice (TRANS = 6) :\", flux_jaune.shape)\n",
    "print(\"Dimensions de la matrice (TRANS = 1, 2 ou 3) :\", flux_vert.shape)\n"
   ]
  },
  {
   "cell_type": "code",
   "execution_count": null,
   "metadata": {},
   "outputs": [],
   "source": [
    "flux('78220', '75108', flux_jaune)"
   ]
  },
  {
   "cell_type": "code",
   "execution_count": null,
   "metadata": {},
   "outputs": [],
   "source": [
    "flux_rouge"
   ]
  },
  {
   "cell_type": "code",
   "execution_count": null,
   "metadata": {},
   "outputs": [],
   "source": [
    "# Pour les départs : somme sur l'axe des colonnes (chaque ligne = ville de départ)\n",
    "df_flux_jaune_depart = flux_jaune.sum(axis=1).reset_index()\n",
    "df_flux_jaune_depart.columns = ['COMMUNE', 'flux_depart']\n",
    "\n",
    "# Pour les arrivées : somme sur l'axe des lignes (chaque colonne = ville d'arrivée)\n",
    "df_flux_jaune_destination = flux_jaune.sum(axis=0).reset_index()\n",
    "df_flux_jaune_destination.columns = ['DCLT', 'flux_destination']\n",
    "\n",
    "print(\"Départ :\", df_flux_jaune_depart.head())\n",
    "print(\"Destination :\", df_flux_jaune_destination.head())\n",
    "\n",
    "df_flux_vert_depart = flux_vert.sum(axis=1).reset_index()\n",
    "df_flux_vert_depart.columns = ['COMMUNE', 'flux_depart']\n",
    "\n",
    "# Pour les arrivées : somme sur l'axe des lignes (chaque colonne = ville d'arrivée)\n",
    "df_flux_vert_destination = flux_vert.sum(axis=0).reset_index()\n",
    "df_flux_vert_destination.columns = ['DCLT', 'flux_destination']\n",
    "\n",
    "print(\"Départ :\", df_flux_vert_depart.head())\n",
    "print(\"Destination :\", df_flux_vert_destination.head())\n",
    "\n",
    "df_flux_rouge_depart = flux_rouge.sum(axis=1).reset_index()\n",
    "df_flux_rouge_depart.columns = ['COMMUNE', 'flux_depart']\n",
    "\n",
    "# Pour les arrivées : somme sur l'axe des lignes (chaque colonne = ville d'arrivée)\n",
    "df_flux_rouge_destination = flux_rouge.sum(axis=0).reset_index()\n",
    "df_flux_rouge_destination.columns = ['DCLT', 'flux_destination']\n",
    "\n",
    "print(\"Départ :\", df_flux_rouge_depart.head())\n",
    "print(\"Destination :\", df_flux_rouge_destination.head())\n"
   ]
  },
  {
   "cell_type": "code",
   "execution_count": null,
   "metadata": {},
   "outputs": [],
   "source": [
    "df_flux_jaune_depart_m = pd.merge(\n",
    "        contours_comm[['INSEE_COM', 'NOM', 'POPULATION', 'INSEE_DEP', 'SIREN_EPCI', 'geometry']],\n",
    "        df_flux_jaune_depart,\n",
    "        left_on='INSEE_COM',\n",
    "        right_on=\"COMMUNE\",\n",
    "        how='left')\n",
    "df_flux_jaune_depart_m[\"flux_depart\"] = df_flux_jaune_depart_m[\"flux_depart\"].fillna(0).astype(int)\n",
    "\n",
    "df_flux_vert_depart_m = pd.merge(\n",
    "        contours_comm[['INSEE_COM', 'NOM', 'POPULATION', 'INSEE_DEP', 'SIREN_EPCI', 'geometry']],\n",
    "        df_flux_vert_depart,\n",
    "        left_on='INSEE_COM',\n",
    "        right_on=\"COMMUNE\",\n",
    "        how='left')\n",
    "df_flux_vert_depart_m[\"flux_depart\"] = df_flux_vert_depart_m[\"flux_depart\"].fillna(0).astype(int)\n",
    "\n",
    "df_flux_rouge_depart_m = pd.merge(\n",
    "        contours_comm[['INSEE_COM', 'NOM', 'POPULATION', 'INSEE_DEP', 'SIREN_EPCI', 'geometry']],\n",
    "        df_flux_rouge_depart,\n",
    "        left_on='INSEE_COM',\n",
    "        right_on=\"COMMUNE\",\n",
    "        how='left')\n",
    "df_flux_rouge_depart_m[\"flux_depart\"] = df_flux_rouge_depart_m[\"flux_depart\"].fillna(0).astype(int)\n",
    "\n",
    "\n",
    "df_flux_jaune_destination_m = pd.merge(\n",
    "        contours_comm[['INSEE_COM', 'NOM', 'POPULATION', 'INSEE_DEP', 'SIREN_EPCI', 'geometry']],\n",
    "        df_flux_jaune_destination,\n",
    "        left_on='INSEE_COM',\n",
    "        right_on=\"DCLT\",\n",
    "        how='left')\n",
    "df_flux_jaune_destination_m[\"flux_destination\"] = df_flux_jaune_destination_m[\"flux_destination\"].fillna(0).astype(int)\n",
    "\n",
    "df_flux_vert_destination_m = pd.merge(\n",
    "        contours_comm[['INSEE_COM', 'NOM', 'POPULATION', 'INSEE_DEP', 'SIREN_EPCI', 'geometry']],\n",
    "        df_flux_vert_destination,\n",
    "        left_on='INSEE_COM',\n",
    "        right_on=\"DCLT\",\n",
    "        how='left')\n",
    "df_flux_vert_destination_m[\"flux_destination\"] = df_flux_vert_destination_m[\"flux_destination\"].fillna(0).astype(int)\n",
    "\n",
    "df_flux_rouge_destination_m = pd.merge(\n",
    "        contours_comm[['INSEE_COM', 'NOM', 'POPULATION', 'INSEE_DEP', 'SIREN_EPCI', 'geometry']],\n",
    "        df_flux_rouge_destination,\n",
    "        left_on='INSEE_COM',\n",
    "        right_on=\"DCLT\",\n",
    "        how='left')\n",
    "df_flux_rouge_destination_m[\"flux_destination\"] = df_flux_rouge_destination_m[\"flux_destination\"].fillna(0).astype(int)"
   ]
  },
  {
   "cell_type": "code",
   "execution_count": null,
   "metadata": {},
   "outputs": [],
   "source": [
    "df_socio_contours_comm = pd.merge(\n",
    "    contours_comm,\n",
    "    df_dossier_complet_brut[['CODGEO', 'TP6021', 'P21_SAL15P', 'C21_MEN', 'P21_ACTOCC15P_TP']],\n",
    "    left_on='INSEE_COM',\n",
    "    right_on='CODGEO',\n",
    "    how='left')"
   ]
  },
  {
   "cell_type": "code",
   "execution_count": null,
   "metadata": {},
   "outputs": [],
   "source": [
    "# Fusionner tous les flux dans un unique DataFrame\n",
    "final_df = df_socio_contours_comm[['INSEE_COM', 'NOM', 'POPULATION', 'INSEE_DEP', 'SIREN_EPCI', 'geometry', 'TP6021', 'P21_SAL15P', 'C21_MEN', 'P21_ACTOCC15P_TP']].copy()\n",
    "\n",
    "# Ajouter les colonnes de flux en les fusionnant avec le DataFrame principal\n",
    "for color in ['jaune', 'vert', 'rouge']:\n",
    "    df_depart = globals()[f'df_flux_{color}_depart']\n",
    "    df_destination = globals()[f'df_flux_{color}_destination']\n",
    "    \n",
    "    df_depart_m = pd.merge(final_df, df_depart, left_on='INSEE_COM', right_on='COMMUNE', how='left')\n",
    "    df_destination_m = pd.merge(final_df, df_destination, left_on='INSEE_COM', right_on='DCLT', how='left')\n",
    "    \n",
    "    final_df[f'flux_depart_{color}'] = df_depart_m['flux_depart'].fillna(0).astype(int)\n",
    "    final_df[f'flux_destination_{color}'] = df_destination_m['flux_destination'].fillna(0).astype(int)"
   ]
  },
  {
   "cell_type": "code",
   "execution_count": null,
   "metadata": {},
   "outputs": [],
   "source": [
    "# Renommer les colonnes\n",
    "final_df = final_df.rename(columns={\n",
    "    'TP6021': 'Taux de pauvreté 2021', \n",
    "    'P21_SAL15P': 'Nb actifs occupés en 2021',\n",
    "    'C21_MEN': 'Nb ménages en 2021',\n",
    "    'P21_ACTOCC15P_TP': 'Nb actifs à temps partiel'\n",
    "})\n"
   ]
  },
  {
   "cell_type": "code",
   "execution_count": null,
   "metadata": {},
   "outputs": [],
   "source": [
    "plot_flux_gradient(df_flux_rouge_depart_m, \"rouge\", \"Figure - Flux (domicile-travail) de départ \\n en voiture/moto par commune\",\"flux_depart\")"
   ]
  },
  {
   "cell_type": "code",
   "execution_count": null,
   "metadata": {},
   "outputs": [],
   "source": [
    "plot_flux_gradient(df_flux_jaune_depart_m, \"jaune\", \"Figure - Flux (domicile-travail) de départ \\n en transport en commun par commune\",\"flux_depart\")"
   ]
  },
  {
   "cell_type": "code",
   "execution_count": null,
   "metadata": {},
   "outputs": [],
   "source": [
    "plot_flux_gradient(df_flux_vert_depart_m, \"vert\", \"Figure - Flux (domicile-travail) de départ \\n à pied\",\"flux_depart\")"
   ]
  },
  {
   "cell_type": "code",
   "execution_count": null,
   "metadata": {},
   "outputs": [],
   "source": [
    "plot_flux_gradient(df_flux_rouge_destination_m, \"rouge\", \"Figure - Flux (domicile-travail) d'arrivée \\n en voiture/moto\",\"flux_destination\")"
   ]
  },
  {
   "cell_type": "code",
   "execution_count": null,
   "metadata": {},
   "outputs": [],
   "source": [
    "plot_flux_gradient(df_flux_jaune_destination_m, \"jaune\", \"Figure - Flux (domicile-travail) d'arrivée \\n en transport en commun\",\"flux_destination\")"
   ]
  },
  {
   "cell_type": "code",
   "execution_count": null,
   "metadata": {},
   "outputs": [],
   "source": [
    "plot_flux_gradient(df_flux_vert_destination_m, \"vert\", \"Figure - Flux (domicile-travail) d'arrivée \\n à pied\",\"flux_destination\")"
   ]
  },
  {
   "cell_type": "code",
   "execution_count": null,
   "metadata": {},
   "outputs": [],
   "source": [
    "plot_flux_gradient_zoom(df_flux_jaune_destination_m, \"jaune\", \"Figure - Flux (domicile-travail) d'arrivée \\n en transports en commun\",\"flux_destination\", \"grenoble\")"
   ]
  },
  {
   "cell_type": "code",
   "execution_count": null,
   "metadata": {},
   "outputs": [],
   "source": [
    "df_flux_jaune_destination_m"
   ]
  },
  {
   "cell_type": "code",
   "execution_count": null,
   "metadata": {},
   "outputs": [],
   "source": [
    "# Conversion en GeoDataFrame si nécessaire\n",
    "if not isinstance(final_df, gpd.GeoDataFrame):\n",
    "    final_df = gpd.GeoDataFrame(final_df, geometry='geometry')\n",
    "\n",
    "# Agrégation des données par EPCI (sans la géométrie pour l'instant)\n",
    "df_epci = final_df.groupby('SIREN_EPCI').agg({\n",
    "    'flux_depart_jaune': 'sum',  # Somme des flux\n",
    "    'flux_destination_jaune': 'sum',\n",
    "    'flux_depart_vert': 'sum',  # Somme des flux\n",
    "    'flux_destination_vert': 'sum',\n",
    "    'flux_depart_rouge': 'sum',  # Somme des flux\n",
    "    'flux_destination_rouge': 'sum',    \n",
    "    'NOM': list,                # Liste des noms de villes\n",
    "    'INSEE_COM': list,          # Liste des codes INSEE\n",
    "    'INSEE_DEP': list,          # Liste des départements\n",
    "    'POPULATION': 'sum',         # Population totale par EPCI\n",
    "    'Nb actifs à temps partiel': 'sum',\n",
    "    'Nb ménages en 2021':'sum',\n",
    "    'Nb actifs occupés en 2021':'sum'}).reset_index()\n",
    "\n",
    "# Fusion des polygones par EPCI avec GeoPandas (via dissolve)\n",
    "gdf_epci = final_df.dissolve(by='SIREN_EPCI', aggfunc='sum')\n",
    "\n",
    "# Joindre les informations non géométriques au GeoDataFrame final\n",
    "gdf_epci = gdf_epci[['geometry']].merge(df_epci, on='SIREN_EPCI')\n",
    "\n",
    "# Résultat final\n",
    "print(gdf_epci.head())\n"
   ]
  },
  {
   "cell_type": "code",
   "execution_count": null,
   "metadata": {},
   "outputs": [],
   "source": [
    "def est_mono_departement(liste_departements):\n",
    "    '''\n",
    "    On vérifie si les EPCI regroupent forcément des villes qui appartiennent au même département (réponse = non pas systématiquement)\n",
    "    '''\n",
    "    return len(set(liste_departements)) == 1\n",
    "    \n",
    "    \n",
    "# Appliquer la fonction à chaque ligne et créer une nouvelle colonne\n",
    "gdf_epci['MONO_DEP'] = gdf_epci['INSEE_DEP'].apply(est_mono_departement)"
   ]
  },
  {
   "cell_type": "code",
   "execution_count": null,
   "metadata": {},
   "outputs": [],
   "source": [
    "# Filtrer pour ignorer les DOM-TOM en vérifiant que tous les départements associés sont en métropole\n",
    "def est_metropole(liste_departements):\n",
    "    \"\"\"\n",
    "    On ne souhaite afficher que la France Métropolitaine et exclure les DOM-TOM et la Corse.\n",
    "    \"\"\"\n",
    "    # Filtrage : ignorer les départements dont le code dépasse 3 caractères\n",
    "    liste_departements = [dep for dep in liste_departements if len(str(dep)) <= 3]\n",
    "\n",
    "    for dep in liste_departements:\n",
    "        # On vérifie si le code contient des lettres, comme '2A' ou '2B'\n",
    "        if any(c.isalpha() for c in dep):\n",
    "            return False  # Exclure la Corse ou d'autres DOM-TOM avec des lettres\n",
    "\n",
    "        # Comparer avec 970 pour la métropole\n",
    "        if int(dep) >= 970:\n",
    "            return False  # Exclure les départements DOM-TOM\n",
    "    \n",
    "    return True  # Si toutes les conditions sont remplies, c'est en métropole\n",
    "    \n",
    "gdf_epci_metropole = gdf_epci[gdf_epci['INSEE_DEP'].apply(est_metropole)]\n",
    "\n",
    "# Construire un graphe basé sur les frontières partagées\n",
    "graph = nx.Graph()\n",
    "for idx, row in gdf_epci_metropole.iterrows():\n",
    "    graph.add_node(idx)\n",
    "    for idx2, row2 in gdf_epci_metropole.iterrows():\n",
    "        if idx != idx2 and row.geometry.touches(row2.geometry):\n",
    "            graph.add_edge(idx, idx2)\n",
    "\n",
    "# Algorithme de Welch-Powell pour la coloration du graphe\n",
    "nodes_sorted = sorted(graph.nodes, key=lambda x: graph.degree[x], reverse=True)\n",
    "color_map = {}\n",
    "available_colors = list(range(4))  # 4 couleurs\n",
    "\n",
    "for node in nodes_sorted:\n",
    "    neighbor_colors = {color_map[neighbor] for neighbor in graph.neighbors(node) if neighbor in color_map}\n",
    "    for color in available_colors:\n",
    "        if color not in neighbor_colors:\n",
    "            color_map[node] = color\n",
    "            break\n",
    "    else:\n",
    "        color_map[node] = 0  # Sécurisation en cas de problème\n",
    "\n",
    "# S'assurer que toutes les valeurs sont bien dans {0,1,2,3}\n",
    "gdf_epci_metropole['color'] = gdf_epci_metropole.index.map(lambda x: color_map.get(x, 0))\n",
    "\n",
    "# Tracer les contours des EPCI métropolitains avec la règle des 4 couleurs\n",
    "fig, ax = plt.subplots(figsize=(10, 10))\n",
    "cmap = plt.get_cmap(\"tab10\", 4)\n",
    "gdf_epci_metropole.plot(column='color', cmap=cmap, edgecolor='black', linewidth=0.8, ax=ax, legend=True)\n",
    "plt.title(\"Contours des EPCI (Métropole uniquement) - Règle des 4 couleurs\")\n",
    "plt.xlabel(\"Longitude\")\n",
    "plt.ylabel(\"Latitude\")\n",
    "plt.show()"
   ]
  },
  {
   "cell_type": "code",
   "execution_count": null,
   "metadata": {},
   "outputs": [],
   "source": []
  }
 ],
 "metadata": {
  "kernelspec": {
   "display_name": "base",
   "language": "python",
   "name": "python3"
  },
  "language_info": {
   "codemirror_mode": {
    "name": "ipython",
    "version": 3
   },
   "file_extension": ".py",
   "mimetype": "text/x-python",
   "name": "python",
   "nbconvert_exporter": "python",
   "pygments_lexer": "ipython3",
   "version": "3.12.9"
  }
 },
 "nbformat": 4,
 "nbformat_minor": 2
}
