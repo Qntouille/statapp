{
 "cells": [
  {
   "cell_type": "code",
   "execution_count": 1,
   "metadata": {},
   "outputs": [
    {
     "name": "stderr",
     "output_type": "stream",
     "text": [
      "/home/onyxia/work/statapp/script.py:19: DtypeWarning: Columns (1,1687,1688) have mixed types. Specify dtype option on import or set low_memory=False.\n",
      "  df_dossier_complet_brut = pd.read_csv(file)\n",
      "/home/onyxia/work/statapp/script.py:24: DtypeWarning: Columns (4,8) have mixed types. Specify dtype option on import or set low_memory=False.\n",
      "  df_meta_dossier_complet_brut = pd.read_csv(file)\n",
      "/home/onyxia/work/statapp/script.py:34: DtypeWarning: Columns (1,2,3,4,14,15,16,18,22,24,27,30,31,32) have mixed types. Specify dtype option on import or set low_memory=False.\n",
      "  df_mobpro_brut = pd.read_csv(file)\n"
     ]
    },
    {
     "ename": "KeyboardInterrupt",
     "evalue": "",
     "output_type": "error",
     "traceback": [
      "\u001b[0;31m---------------------------------------------------------------------------\u001b[0m",
      "\u001b[0;31mKeyboardInterrupt\u001b[0m                         Traceback (most recent call last)",
      "Cell \u001b[0;32mIn[1], line 1\u001b[0m\n\u001b[0;32m----> 1\u001b[0m \u001b[38;5;28;01mfrom\u001b[39;00m\u001b[38;5;250m \u001b[39m\u001b[38;5;21;01mscript\u001b[39;00m\u001b[38;5;250m \u001b[39m\u001b[38;5;28;01mimport\u001b[39;00m df_mobpro_brut, arr_marseille, arr_paris, arr_lyon, contours_comm, transport_dict, contours_comm, flux\n\u001b[1;32m      2\u001b[0m \u001b[38;5;28;01mimport\u001b[39;00m\u001b[38;5;250m \u001b[39m\u001b[38;5;21;01mmatplotlib\u001b[39;00m\u001b[38;5;21;01m.\u001b[39;00m\u001b[38;5;21;01mpyplot\u001b[39;00m\u001b[38;5;250m \u001b[39m\u001b[38;5;28;01mas\u001b[39;00m\u001b[38;5;250m \u001b[39m\u001b[38;5;21;01mplt\u001b[39;00m\n\u001b[1;32m      3\u001b[0m \u001b[38;5;28;01mimport\u001b[39;00m\u001b[38;5;250m \u001b[39m\u001b[38;5;21;01mpandas\u001b[39;00m\u001b[38;5;250m \u001b[39m\u001b[38;5;28;01mas\u001b[39;00m\u001b[38;5;250m \u001b[39m\u001b[38;5;21;01mpd\u001b[39;00m\n",
      "File \u001b[0;32m~/work/statapp/script.py:79\u001b[0m\n\u001b[1;32m     77\u001b[0m df_mobpro_brut[\u001b[38;5;124m'\u001b[39m\u001b[38;5;124mINPSM\u001b[39m\u001b[38;5;124m'\u001b[39m] \u001b[38;5;241m=\u001b[39m pd\u001b[38;5;241m.\u001b[39mto_numeric(df_mobpro_brut[\u001b[38;5;124m'\u001b[39m\u001b[38;5;124mINPSM\u001b[39m\u001b[38;5;124m'\u001b[39m], errors\u001b[38;5;241m=\u001b[39m\u001b[38;5;124m'\u001b[39m\u001b[38;5;124mcoerce\u001b[39m\u001b[38;5;124m'\u001b[39m)\n\u001b[1;32m     78\u001b[0m df_mobpro_brut[\u001b[38;5;124m'\u001b[39m\u001b[38;5;124mINPOM\u001b[39m\u001b[38;5;124m'\u001b[39m] \u001b[38;5;241m=\u001b[39m pd\u001b[38;5;241m.\u001b[39mto_numeric(df_mobpro_brut[\u001b[38;5;124m'\u001b[39m\u001b[38;5;124mINPOM\u001b[39m\u001b[38;5;124m'\u001b[39m], errors\u001b[38;5;241m=\u001b[39m\u001b[38;5;124m'\u001b[39m\u001b[38;5;124mcoerce\u001b[39m\u001b[38;5;124m'\u001b[39m)\n\u001b[0;32m---> 79\u001b[0m df_mobpro_brut[\u001b[38;5;124m'\u001b[39m\u001b[38;5;124mINEEM\u001b[39m\u001b[38;5;124m'\u001b[39m] \u001b[38;5;241m=\u001b[39m \u001b[43mpd\u001b[49m\u001b[38;5;241;43m.\u001b[39;49m\u001b[43mto_numeric\u001b[49m\u001b[43m(\u001b[49m\u001b[43mdf_mobpro_brut\u001b[49m\u001b[43m[\u001b[49m\u001b[38;5;124;43m'\u001b[39;49m\u001b[38;5;124;43mINEEM\u001b[39;49m\u001b[38;5;124;43m'\u001b[39;49m\u001b[43m]\u001b[49m\u001b[43m,\u001b[49m\u001b[43m \u001b[49m\u001b[43merrors\u001b[49m\u001b[38;5;241;43m=\u001b[39;49m\u001b[38;5;124;43m'\u001b[39;49m\u001b[38;5;124;43mcoerce\u001b[39;49m\u001b[38;5;124;43m'\u001b[39;49m\u001b[43m)\u001b[49m\n\u001b[1;32m     81\u001b[0m \u001b[38;5;66;03m# COMMUNE mise à l'échelle de l'arrondissement\u001b[39;00m\n\u001b[1;32m     82\u001b[0m df_mobpro_brut\u001b[38;5;241m.\u001b[39mloc[df_mobpro_brut[\u001b[38;5;124m'\u001b[39m\u001b[38;5;124mCOMMUNE\u001b[39m\u001b[38;5;124m'\u001b[39m]\u001b[38;5;241m.\u001b[39misin([\u001b[38;5;124m'\u001b[39m\u001b[38;5;124m75056\u001b[39m\u001b[38;5;124m'\u001b[39m, \u001b[38;5;124m'\u001b[39m\u001b[38;5;124m13055\u001b[39m\u001b[38;5;124m'\u001b[39m, \u001b[38;5;124m'\u001b[39m\u001b[38;5;124m69123\u001b[39m\u001b[38;5;124m'\u001b[39m]), \u001b[38;5;124m'\u001b[39m\u001b[38;5;124mCOMMUNE\u001b[39m\u001b[38;5;124m'\u001b[39m] \u001b[38;5;241m=\u001b[39m df_mobpro_brut[\u001b[38;5;124m'\u001b[39m\u001b[38;5;124mARM\u001b[39m\u001b[38;5;124m'\u001b[39m]\n",
      "File \u001b[0;32m/opt/conda/lib/python3.12/site-packages/pandas/core/tools/numeric.py:232\u001b[0m, in \u001b[0;36mto_numeric\u001b[0;34m(arg, errors, downcast, dtype_backend)\u001b[0m\n\u001b[1;32m    230\u001b[0m coerce_numeric \u001b[38;5;241m=\u001b[39m errors \u001b[38;5;129;01mnot\u001b[39;00m \u001b[38;5;129;01min\u001b[39;00m (\u001b[38;5;124m\"\u001b[39m\u001b[38;5;124mignore\u001b[39m\u001b[38;5;124m\"\u001b[39m, \u001b[38;5;124m\"\u001b[39m\u001b[38;5;124mraise\u001b[39m\u001b[38;5;124m\"\u001b[39m)\n\u001b[1;32m    231\u001b[0m \u001b[38;5;28;01mtry\u001b[39;00m:\n\u001b[0;32m--> 232\u001b[0m     values, new_mask \u001b[38;5;241m=\u001b[39m \u001b[43mlib\u001b[49m\u001b[38;5;241;43m.\u001b[39;49m\u001b[43mmaybe_convert_numeric\u001b[49m\u001b[43m(\u001b[49m\u001b[43m  \u001b[49m\u001b[38;5;66;43;03m# type: ignore[call-overload]\u001b[39;49;00m\n\u001b[1;32m    233\u001b[0m \u001b[43m        \u001b[49m\u001b[43mvalues\u001b[49m\u001b[43m,\u001b[49m\n\u001b[1;32m    234\u001b[0m \u001b[43m        \u001b[49m\u001b[38;5;28;43mset\u001b[39;49m\u001b[43m(\u001b[49m\u001b[43m)\u001b[49m\u001b[43m,\u001b[49m\n\u001b[1;32m    235\u001b[0m \u001b[43m        \u001b[49m\u001b[43mcoerce_numeric\u001b[49m\u001b[38;5;241;43m=\u001b[39;49m\u001b[43mcoerce_numeric\u001b[49m\u001b[43m,\u001b[49m\n\u001b[1;32m    236\u001b[0m \u001b[43m        \u001b[49m\u001b[43mconvert_to_masked_nullable\u001b[49m\u001b[38;5;241;43m=\u001b[39;49m\u001b[43mdtype_backend\u001b[49m\u001b[43m \u001b[49m\u001b[38;5;129;43;01mis\u001b[39;49;00m\u001b[43m \u001b[49m\u001b[38;5;129;43;01mnot\u001b[39;49;00m\u001b[43m \u001b[49m\u001b[43mlib\u001b[49m\u001b[38;5;241;43m.\u001b[39;49m\u001b[43mno_default\u001b[49m\n\u001b[1;32m    237\u001b[0m \u001b[43m        \u001b[49m\u001b[38;5;129;43;01mor\u001b[39;49;00m\u001b[43m \u001b[49m\u001b[38;5;28;43misinstance\u001b[39;49m\u001b[43m(\u001b[49m\u001b[43mvalues_dtype\u001b[49m\u001b[43m,\u001b[49m\u001b[43m \u001b[49m\u001b[43mStringDtype\u001b[49m\u001b[43m)\u001b[49m\n\u001b[1;32m    238\u001b[0m \u001b[43m        \u001b[49m\u001b[38;5;129;43;01mand\u001b[39;49;00m\u001b[43m \u001b[49m\u001b[38;5;129;43;01mnot\u001b[39;49;00m\u001b[43m \u001b[49m\u001b[43mvalues_dtype\u001b[49m\u001b[38;5;241;43m.\u001b[39;49m\u001b[43mstorage\u001b[49m\u001b[43m \u001b[49m\u001b[38;5;241;43m==\u001b[39;49m\u001b[43m \u001b[49m\u001b[38;5;124;43m\"\u001b[39;49m\u001b[38;5;124;43mpyarrow_numpy\u001b[39;49m\u001b[38;5;124;43m\"\u001b[39;49m\u001b[43m,\u001b[49m\n\u001b[1;32m    239\u001b[0m \u001b[43m    \u001b[49m\u001b[43m)\u001b[49m\n\u001b[1;32m    240\u001b[0m \u001b[38;5;28;01mexcept\u001b[39;00m (\u001b[38;5;167;01mValueError\u001b[39;00m, \u001b[38;5;167;01mTypeError\u001b[39;00m):\n\u001b[1;32m    241\u001b[0m     \u001b[38;5;28;01mif\u001b[39;00m errors \u001b[38;5;241m==\u001b[39m \u001b[38;5;124m\"\u001b[39m\u001b[38;5;124mraise\u001b[39m\u001b[38;5;124m\"\u001b[39m:\n",
      "\u001b[0;31mKeyboardInterrupt\u001b[0m: "
     ]
    }
   ],
   "source": [
    "from script import df_mobpro_brut, arr_marseille, arr_paris, arr_lyon, contours_comm, transport_dict, contours_comm, flux\n",
    "import matplotlib.pyplot as plt\n",
    "import pandas as pd\n",
    "import geopandas as gpd\n",
    "import seaborn as sns\n",
    "import numpy as np\n",
    "import matplotlib.colors as colors\n",
    "from scipy.sparse import coo_matrix"
   ]
  },
  {
   "cell_type": "code",
   "execution_count": null,
   "metadata": {},
   "outputs": [],
   "source": [
    "df_mobpro_brut.head()"
   ]
  },
  {
   "cell_type": "markdown",
   "metadata": {},
   "source": [
    "Ce que signifient chacune des en-têtes de colonnes :  \n",
    "COMMUNE Département et commune du lieu de résidence  \n",
    "ARM Arrondissement municipal de résidence (Paris, Lyon et Marseille)  \n",
    "DCFLT Commune frontalière du lieu de travail  \n",
    "DCLT Département, commune et arrondissement municipal (Paris, Lyon, Marseille) du lieu de travail  \n",
    "AGEREVQ Âge quinquennal en années révolues  \n",
    "CS1 Catégorie socioprofessionnelle en 8 postes  \n",
    "DEROU Nombre de deux-roues à moteur du ménage (DOM)  \n",
    "DIPL_15 Diplôme le plus élevé  \n",
    "EMPL Condition d'emploi  \n",
    "ILTUU Indicateur urbain du lieu de travail  \n",
    "ILT Indicateur du lieu de travail  \n",
    "IMMI Situation quant à l'immigration  \n",
    "INATC Indicateur de nationalité condensé (Français/Étranger)  \n",
    "INEEM Nombre d'élèves, étudiants ou stagiaires âgés de 14 ans ou plus du ménage  \n",
    "INPOM Nombre de personnes actives ayant un emploi du ménage  \n",
    "INPSM Nombre de personnes scolarisées du ménage  \n",
    "IPONDI Poids de l'individu  \n",
    "LPRM Lien à la personne de référence du ménage  \n",
    "METRODOM Indicateur Métropole ou DOM du lieu de résidence  \n",
    "MOCO Mode de cohabitation  \n",
    "NA5 Activité économique regroupée en 5 postes  \n",
    "NPERR Nombre de personnes du ménage (regroupé)  \n",
    "REGION Région du lieu de résidence  \n",
    "REGLT Région du lieu de travail  \n",
    "SEXE Sexe  \n",
    "STAT Statut professionnel  \n",
    "STOCD Statut d'occupation détaillé du logement  \n",
    "TP Temps de travail  \n",
    "TRANS Mode de transport principal le plus souvent utilisé pour aller travailler  \n",
    "TYPL Type de logement  \n",
    "TYPMR Type de ménage regroupé (en 9 postes)  \n",
    "VOIT Nombre de voitures du ménage  "
   ]
  },
  {
   "cell_type": "code",
   "execution_count": null,
   "metadata": {},
   "outputs": [],
   "source": [
    "# Distribution des modes de transport utilisés pour aller travailler\n",
    "transport_distribution = df_mobpro_brut['TRANS_LABEL'].value_counts()\n",
    "print(transport_distribution)\n",
    "\n",
    "# Visualisation\n",
    "transport_distribution.plot(kind='bar', color='skyblue')\n",
    "plt.xticks(rotation=45, ha='right', rotation_mode='anchor')\n",
    "plt.title('Distribution des modes de transport')\n",
    "plt.xlabel('Mode de transport')\n",
    "plt.ylabel('Nombre d’individus')\n",
    "plt.show()"
   ]
  },
  {
   "cell_type": "code",
   "execution_count": null,
   "metadata": {},
   "outputs": [],
   "source": [
    "# Âge moyen par mode de transport\n",
    "age_transport = df_mobpro_brut.groupby('TRANS_LABEL')['AGEREVQ'].mean()\n",
    "print(age_transport)\n",
    "\n",
    "# Visualisation\n",
    "age_transport.plot(kind='bar', color='orange')\n",
    "plt.xticks(rotation=45, ha='right', rotation_mode='anchor')\n",
    "plt.title('Âge moyen par mode de transport')\n",
    "plt.xlabel('Mode de transport')\n",
    "plt.ylabel('Âge moyen')\n",
    "plt.show()\n"
   ]
  },
  {
   "cell_type": "code",
   "execution_count": null,
   "metadata": {},
   "outputs": [],
   "source": [
    "# Distribution des modes de transport par catégorie socio-professionnelle avec labels\n",
    "cs1_transport = pd.crosstab(df_mobpro_brut['CS_LABEL'], df_mobpro_brut['TRANS_LABEL'])\n",
    "\n",
    "# Heatmap\n",
    "sns.heatmap(cs1_transport, annot=True, fmt='d', cmap='Blues')\n",
    "plt.title('Modes de transport par catégorie socio-professionnelle')\n",
    "plt.xlabel('Mode de transport')\n",
    "\n",
    "# Inclinaison des labels avec alignement pour que l'extrémité pointe vers l'axe\n",
    "plt.xticks(rotation=45, ha='right', rotation_mode='anchor')\n",
    "plt.ylabel('Catégorie socio-professionnelle')\n",
    "plt.show()\n"
   ]
  },
  {
   "cell_type": "markdown",
   "metadata": {},
   "source": [
    "La fonction ci-dessous permet d'obtenir un premier tableau regroupant certaines informations par commune :\n",
    "- Nombre de personnes du ménage (regroupé)\n",
    "- Nombre de personnes scolarisées du ménage\n",
    "- Nombre de personnes actives ayant un emploi du ménage\n",
    "- Nombre d'élèves, étudiants ou stagiaires âgés de 14 ans ou plus du ménage\n",
    "- Indicateur du lieu de travail\n",
    "(1 Dans la commune de résidence actuelle\n",
    "2 Dans une autre commune du département de résidence\n",
    "3 Dans un autre département de la région de résidence\n",
    "4 Hors de la région de résidence actuelle : en métropole\n",
    "5 Hors de la région de résidence actuelle : dans un DOM\n",
    "6 Hors de la région de résidence actuelle : dans une COM\n",
    "7 A l'étranger)"
   ]
  },
  {
   "cell_type": "code",
   "execution_count": null,
   "metadata": {},
   "outputs": [],
   "source": [
    "# Conversion des colonnes en numérique\n",
    "df_mobpro_brut['NPERR'] = pd.to_numeric(df_mobpro_brut['NPERR'], errors='coerce')\n",
    "df_mobpro_brut['INPSM'] = pd.to_numeric(df_mobpro_brut['INPSM'], errors='coerce')\n",
    "df_mobpro_brut['INPOM'] = pd.to_numeric(df_mobpro_brut['INPOM'], errors='coerce')\n",
    "df_mobpro_brut['INEEM'] = pd.to_numeric(df_mobpro_brut['INEEM'], errors='coerce')\n",
    "\n",
    "# Création des agrégations de base\n",
    "mobpro_villes = df_mobpro_brut.groupby('COMMUNE').agg({\n",
    "    'NPERR': 'sum',\n",
    "    'INPSM': 'sum',\n",
    "    'INPOM': 'sum',\n",
    "    'INEEM': 'sum'})\n",
    "\n",
    "# Créons d'abord un DataFrame temporaire pour chaque valeur d'ILT\n",
    "for i in range(1, 8):\n",
    "    # Grouper par COMMUNE et compter les occurrences où ILT == str(i)\n",
    "    temp_count = df_mobpro_brut[df_mobpro_brut['ILT'] == i].groupby('COMMUNE').size()\n",
    "    # Ajouter cette série au DataFrame principal\n",
    "    mobpro_villes[f'ILT_{i}'] = temp_count\n",
    "\n",
    "# Remplir les valeurs manquantes (NaN) par 0\n",
    "mobpro_villes = mobpro_villes.fillna(0)\n",
    "\n",
    "# Réinitialisation de l'index\n",
    "mobpro_villes = mobpro_villes.reset_index()"
   ]
  },
  {
   "cell_type": "code",
   "execution_count": null,
   "metadata": {},
   "outputs": [],
   "source": [
    "mobpro_villes.head()"
   ]
  },
  {
   "cell_type": "markdown",
   "metadata": {},
   "source": [
    "On souhaite créer une matrice des flux pour avoir une vision générale des trajets domicile-travail quotidiens entre les villes. Pour chaque couple de ville, le nombre correspondant dans la matrice correspond au nombre de commute effectué de la ville 1 à la ville 2. \n",
    "\n",
    "On remarque que pour la variable \"COMMUNE\" (commune de résidence) on a uniquement 75056 pour Paris (idem pour Lyon et Marseille), tandis que pour la variable \"DCLT\" (commune de travail) on a un découpage en arrondissement avec les codes 75101,... pour Paris (idem pour Lyon et Marseille). Afin de pallier cette différence, on se cale sur l'échelle des arrondissements en remplaçant la valeur de \"COMMUNE\" par celle de \"ARM\" lorsque la ville en question est Paris, Marseille ou Lyon."
   ]
  },
  {
   "cell_type": "code",
   "execution_count": null,
   "metadata": {},
   "outputs": [],
   "source": [
    "# Création d'une table croisée dynamique pour compter les déplacements\n",
    "flux_tot = pd.crosstab(df_mobpro_brut['COMMUNE'], df_mobpro_brut['DCLT'])\n",
    "\n",
    "# Conversion en DataFrame pour plus de clarté\n",
    "flux_tot = pd.DataFrame(flux_tot)\n",
    "\n",
    "\n",
    "# Pour voir les dimensions de la matrice\n",
    "print(\"Dimensions de la matrice :\", flux_tot.shape)\n",
    "\n",
    "# Filtrer les données pour chaque groupe de transport\n",
    "df_trans_45 = df_mobpro_brut[df_mobpro_brut['TRANS'].isin([4, 5])]\n",
    "df_trans_6 = df_mobpro_brut[df_mobpro_brut['TRANS'] == 6]\n",
    "df_trans_123 = df_mobpro_brut[df_mobpro_brut['TRANS'].isin([1, 2, 3])]\n",
    "\n",
    "# Créer les matrices des flux pour chaque groupe\n",
    "flux_rouge = pd.crosstab(df_trans_45['COMMUNE'], df_trans_45['DCLT'])\n",
    "flux_jaune = pd.crosstab(df_trans_6['COMMUNE'], df_trans_6['DCLT'])\n",
    "flux_vert = pd.crosstab(df_trans_123['COMMUNE'], df_trans_123['DCLT'])\n",
    "\n",
    "# Convertir en DataFrame pour plus de clarté\n",
    "flux_rouge = pd.DataFrame(flux_rouge)\n",
    "flux_jaune = pd.DataFrame(flux_jaune)\n",
    "flux_vert = pd.DataFrame(flux_vert)\n",
    "\n",
    "# Afficher les dimensions des matrices\n",
    "print(\"Dimensions de la matrice (TRANS = 4 ou 5) :\", flux_rouge.shape)\n",
    "print(\"Dimensions de la matrice (TRANS = 6) :\", flux_jaune.shape)\n",
    "print(\"Dimensions de la matrice (TRANS = 1, 2 ou 3) :\", flux_vert.shape)\n"
   ]
  },
  {
   "cell_type": "code",
   "execution_count": null,
   "metadata": {},
   "outputs": [],
   "source": [
    "flux('78220', '75108')"
   ]
  },
  {
   "cell_type": "code",
   "execution_count": null,
   "metadata": {},
   "outputs": [],
   "source": [
    "flux_rouge"
   ]
  },
  {
   "cell_type": "code",
   "execution_count": null,
   "metadata": {},
   "outputs": [],
   "source": [
    "# Pour les départs : somme sur l'axe des colonnes (chaque ligne = ville de départ)\n",
    "df_flux_jaune_depart = flux_jaune.sum(axis=1).reset_index()\n",
    "df_flux_jaune_depart.columns = ['COMMUNE', 'flux_depart']\n",
    "\n",
    "# Pour les arrivées : somme sur l'axe des lignes (chaque colonne = ville d'arrivée)\n",
    "df_flux_jaune_destination = flux_jaune.sum(axis=0).reset_index()\n",
    "df_flux_jaune_destination.columns = ['DCLT', 'flux_destination']\n",
    "\n",
    "print(\"Départ :\", df_flux_jaune_depart.head())\n",
    "print(\"Destination :\", df_flux_jaune_destination.head())\n",
    "\n",
    "df_flux_vert_depart = flux_vert.sum(axis=1).reset_index()\n",
    "df_flux_vert_depart.columns = ['COMMUNE', 'flux_depart']\n",
    "\n",
    "# Pour les arrivées : somme sur l'axe des lignes (chaque colonne = ville d'arrivée)\n",
    "df_flux_vert_destination = flux_vert.sum(axis=0).reset_index()\n",
    "df_flux_vert_destination.columns = ['DCLT', 'flux_destination']\n",
    "\n",
    "print(\"Départ :\", df_flux_vert_depart.head())\n",
    "print(\"Destination :\", df_flux_vert_destination.head())\n",
    "\n",
    "df_flux_rouge_depart = flux_rouge.sum(axis=1).reset_index()\n",
    "df_flux_rouge_depart.columns = ['COMMUNE', 'flux_depart']\n",
    "\n",
    "# Pour les arrivées : somme sur l'axe des lignes (chaque colonne = ville d'arrivée)\n",
    "df_flux_rouge_destination = flux_rouge.sum(axis=0).reset_index()\n",
    "df_flux_rouge_destination.columns = ['DCLT', 'flux_destination']\n",
    "\n",
    "print(\"Départ :\", df_flux_rouge_depart.head())\n",
    "print(\"Destination :\", df_flux_rouge_destination.head())\n"
   ]
  },
  {
   "cell_type": "code",
   "execution_count": 33,
   "metadata": {},
   "outputs": [],
   "source": [
    "df_flux_jaune_depart_m = pd.merge(\n",
    "        contours_comm[['INSEE_COM', 'NOM', 'POPULATION', 'INSEE_DEP', 'SIREN_EPCI', 'geometry']],\n",
    "        df_flux_jaune_depart,\n",
    "        left_on='INSEE_COM',\n",
    "        right_on=\"COMMUNE\",\n",
    "        how='left')\n",
    "df_flux_jaune_depart_m[\"flux_depart\"] = df_flux_jaune_depart_m[\"flux_depart\"].fillna(0).astype(int)\n",
    "\n",
    "df_flux_vert_depart_m = pd.merge(\n",
    "        contours_comm[['INSEE_COM', 'NOM', 'POPULATION', 'INSEE_DEP', 'SIREN_EPCI', 'geometry']],\n",
    "        df_flux_vert_depart,\n",
    "        left_on='INSEE_COM',\n",
    "        right_on=\"COMMUNE\",\n",
    "        how='left')\n",
    "df_flux_vert_depart_m[\"flux_depart\"] = df_flux_vert_depart_m[\"flux_depart\"].fillna(0).astype(int)\n",
    "\n",
    "df_flux_rouge_depart_m = pd.merge(\n",
    "        contours_comm[['INSEE_COM', 'NOM', 'POPULATION', 'INSEE_DEP', 'SIREN_EPCI', 'geometry']],\n",
    "        df_flux_rouge_depart,\n",
    "        left_on='INSEE_COM',\n",
    "        right_on=\"COMMUNE\",\n",
    "        how='left')\n",
    "df_flux_rouge_depart_m[\"flux_depart\"] = df_flux_rouge_depart_m[\"flux_depart\"].fillna(0).astype(int)\n",
    "\n",
    "\n",
    "df_flux_jaune_destination_m = pd.merge(\n",
    "        contours_comm[['INSEE_COM', 'NOM', 'POPULATION', 'INSEE_DEP', 'SIREN_EPCI', 'geometry']],\n",
    "        df_flux_jaune_destination,\n",
    "        left_on='INSEE_COM',\n",
    "        right_on=\"DCLT\",\n",
    "        how='left')\n",
    "df_flux_jaune_destination_m[\"flux_destination\"] = df_flux_jaune_destination_m[\"flux_destination\"].fillna(0).astype(int)\n",
    "\n",
    "df_flux_vert_destination_m = pd.merge(\n",
    "        contours_comm[['INSEE_COM', 'NOM', 'POPULATION', 'INSEE_DEP', 'SIREN_EPCI', 'geometry']],\n",
    "        df_flux_vert_destination,\n",
    "        left_on='INSEE_COM',\n",
    "        right_on=\"DCLT\",\n",
    "        how='left')\n",
    "df_flux_vert_destination_m[\"flux_destination\"] = df_flux_vert_destination_m[\"flux_destination\"].fillna(0).astype(int)\n",
    "\n",
    "df_flux_rouge_destination_m = pd.merge(\n",
    "        contours_comm[['INSEE_COM', 'NOM', 'POPULATION', 'INSEE_DEP', 'SIREN_EPCI', 'geometry']],\n",
    "        df_flux_rouge_destination,\n",
    "        left_on='INSEE_COM',\n",
    "        right_on=\"DCLT\",\n",
    "        how='left')\n",
    "df_flux_rouge_destination_m[\"flux_destination\"] = df_flux_rouge_destination_m[\"flux_destination\"].fillna(0).astype(int)"
   ]
  },
  {
   "cell_type": "code",
   "execution_count": null,
   "metadata": {},
   "outputs": [],
   "source": [
    "plot_flux_gradient(df_flux_rouge_depart_m, \"rouge\", \"Figure - Flux (domicile-travail) de départ \\n en voiture/moto par commune\",\"flux_depart\")"
   ]
  },
  {
   "cell_type": "code",
   "execution_count": null,
   "metadata": {},
   "outputs": [],
   "source": [
    "plot_flux_gradient(df_flux_jaune_depart_m, \"jaune\", \"Figure - Flux (domicile-travail) de départ \\n en transport en commun par commune\",\"flux_depart\")"
   ]
  },
  {
   "cell_type": "code",
   "execution_count": null,
   "metadata": {},
   "outputs": [],
   "source": [
    "plot_flux_gradient(df_flux_vert_depart_m, \"vert\", \"Figure - Flux (domicile-travail) de départ \\n à pied\",\"flux_depart\")"
   ]
  },
  {
   "cell_type": "code",
   "execution_count": null,
   "metadata": {},
   "outputs": [],
   "source": [
    "plot_flux_gradient(df_flux_rouge_destination_m, \"rouge\", \"Figure - Flux (domicile-travail) d'arrivée \\n en voiture/moto\",\"flux_destination\")"
   ]
  },
  {
   "cell_type": "code",
   "execution_count": null,
   "metadata": {},
   "outputs": [],
   "source": [
    "plot_flux_gradient(df_flux_jaune_destination_m, \"jaune\", \"Figure - Flux (domicile-travail) d'arrivée \\n en transport en commun\",\"flux_destination\")"
   ]
  },
  {
   "cell_type": "code",
   "execution_count": null,
   "metadata": {},
   "outputs": [],
   "source": [
    "plot_flux_gradient(df_flux_vert_destination_m, \"vert\", \"Figure - Flux (domicile-travail) d'arrivée \\n à pied\",\"flux_destination\")"
   ]
  }
 ],
 "metadata": {
  "kernelspec": {
   "display_name": "base",
   "language": "python",
   "name": "python3"
  },
  "language_info": {
   "codemirror_mode": {
    "name": "ipython",
    "version": 3
   },
   "file_extension": ".py",
   "mimetype": "text/x-python",
   "name": "python",
   "nbconvert_exporter": "python",
   "pygments_lexer": "ipython3",
   "version": "3.12.7"
  }
 },
 "nbformat": 4,
 "nbformat_minor": 2
}
