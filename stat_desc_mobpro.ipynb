{
 "cells": [
  {
   "cell_type": "code",
   "execution_count": null,
   "metadata": {},
   "outputs": [],
   "source": [
    "from script import df_mobpro_brut, arr_marseille, arr_paris, arr_lyon, contours_comm, transport_dict, contours_comm\n",
    "import matplotlib.pyplot as plt\n",
    "import pandas as pd\n",
    "import geopandas as gpd\n",
    "import seaborn as sns\n",
    "import numpy as np\n",
    "import matplotlib.colors as colors\n",
    "from scipy.sparse import coo_matrix"
   ]
  },
  {
   "cell_type": "code",
   "execution_count": null,
   "metadata": {},
   "outputs": [],
   "source": [
    "df_mobpro_brut.head()"
   ]
  },
  {
   "cell_type": "code",
   "execution_count": null,
   "metadata": {},
   "outputs": [],
   "source": [
    "# Distribution des modes de transport utilisés pour aller travailler\n",
    "transport_distribution = df_mobpro_brut['TRANS_LABEL'].value_counts()\n",
    "print(transport_distribution)\n",
    "\n",
    "# Visualisation\n",
    "transport_distribution.plot(kind='bar', color='skyblue')\n",
    "plt.xticks(rotation=45, ha='right', rotation_mode='anchor')\n",
    "plt.title('Distribution des modes de transport')\n",
    "plt.xlabel('Mode de transport')\n",
    "plt.ylabel('Nombre d’individus')\n",
    "plt.show()"
   ]
  },
  {
   "cell_type": "code",
   "execution_count": null,
   "metadata": {},
   "outputs": [],
   "source": [
    "# Âge moyen par mode de transport\n",
    "age_transport = df_mobpro_brut.groupby('TRANS_LABEL')['AGEREVQ'].mean()\n",
    "print(age_transport)\n",
    "\n",
    "# Visualisation\n",
    "age_transport.plot(kind='bar', color='orange')\n",
    "plt.xticks(rotation=45, ha='right', rotation_mode='anchor')\n",
    "plt.title('Âge moyen par mode de transport')\n",
    "plt.xlabel('Mode de transport')\n",
    "plt.ylabel('Âge moyen')\n",
    "plt.show()\n"
   ]
  },
  {
   "cell_type": "code",
   "execution_count": null,
   "metadata": {},
   "outputs": [],
   "source": [
    "# Distribution des modes de transport par catégorie socio-professionnelle avec labels\n",
    "cs1_transport = pd.crosstab(df_mobpro_brut['CS_LABEL'], df_mobpro_brut['TRANS_LABEL'])\n",
    "\n",
    "# Heatmap\n",
    "sns.heatmap(cs1_transport, annot=True, fmt='d', cmap='Blues')\n",
    "plt.title('Modes de transport par catégorie socio-professionnelle')\n",
    "plt.xlabel('Mode de transport')\n",
    "\n",
    "# Inclinaison des labels avec alignement pour que l'extrémité pointe vers l'axe\n",
    "plt.xticks(rotation=45, ha='right', rotation_mode='anchor')\n",
    "plt.ylabel('Catégorie socio-professionnelle')\n",
    "plt.show()\n"
   ]
  },
  {
   "cell_type": "code",
   "execution_count": null,
   "metadata": {},
   "outputs": [],
   "source": [
    "# Création d'une table croisée dynamique pour compter les déplacements\n",
    "flux_tot = pd.crosstab(df_mobpro_brut['COMMUNE'], df_mobpro_brut['DCLT'])\n",
    "\n",
    "# Conversion en DataFrame pour plus de clarté\n",
    "flux_tot = pd.DataFrame(flux_tot)\n",
    "\n",
    "\n",
    "# Pour voir les dimensions de la matrice\n",
    "print(\"Dimensions de la matrice :\", flux_tot.shape)\n",
    "\n",
    "# Filtrer les données pour chaque groupe de transport\n",
    "df_trans_45 = df_mobpro_brut[df_mobpro_brut['TRANS'].isin([4, 5])]\n",
    "df_trans_6 = df_mobpro_brut[df_mobpro_brut['TRANS'] == 6]\n",
    "df_trans_123 = df_mobpro_brut[df_mobpro_brut['TRANS'].isin([1, 2, 3])]\n",
    "\n",
    "# Créer les matrices des flux pour chaque groupe\n",
    "flux_rouge = pd.crosstab(df_trans_45['COMMUNE'], df_trans_45['DCLT'])\n",
    "flux_jaune = pd.crosstab(df_trans_6['COMMUNE'], df_trans_6['DCLT'])\n",
    "flux_vert = pd.crosstab(df_trans_123['COMMUNE'], df_trans_123['DCLT'])\n",
    "\n",
    "# Convertir en DataFrame pour plus de clarté\n",
    "flux_rouge = pd.DataFrame(flux_rouge)\n",
    "flux_jaune = pd.DataFrame(flux_jaune)\n",
    "flux_vert = pd.DataFrame(flux_vert)\n",
    "\n",
    "# Afficher les dimensions des matrices\n",
    "print(\"Dimensions de la matrice (TRANS = 4 ou 5) :\", flux_rouge.shape)\n",
    "print(\"Dimensions de la matrice (TRANS = 6) :\", flux_jaune.shape)\n",
    "print(\"Dimensions de la matrice (TRANS = 1, 2 ou 3) :\", flux_vert.shape)\n"
   ]
  },
  {
   "cell_type": "code",
   "execution_count": null,
   "metadata": {},
   "outputs": [],
   "source": [
    "flux_rouge"
   ]
  },
  {
   "cell_type": "code",
   "execution_count": null,
   "metadata": {},
   "outputs": [],
   "source": [
    "# Pour les départs : somme sur l'axe des colonnes (chaque ligne = ville de départ)\n",
    "df_flux_jaune_depart = flux_jaune.sum(axis=1).reset_index()\n",
    "df_flux_jaune_depart.columns = ['COMMUNE', 'flux_depart']\n",
    "\n",
    "# Pour les arrivées : somme sur l'axe des lignes (chaque colonne = ville d'arrivée)\n",
    "df_flux_jaune_destination = flux_jaune.sum(axis=0).reset_index()\n",
    "df_flux_jaune_destination.columns = ['DCLT', 'flux_destination']\n",
    "\n",
    "print(\"Départ :\", df_flux_jaune_depart.head())\n",
    "print(\"Destination :\", df_flux_jaune_destination.head())\n",
    "\n",
    "df_flux_vert_depart = flux_vert.sum(axis=1).reset_index()\n",
    "df_flux_vert_depart.columns = ['COMMUNE', 'flux_depart']\n",
    "\n",
    "# Pour les arrivées : somme sur l'axe des lignes (chaque colonne = ville d'arrivée)\n",
    "df_flux_vert_destination = flux_vert.sum(axis=0).reset_index()\n",
    "df_flux_vert_destination.columns = ['DCLT', 'flux_destination']\n",
    "\n",
    "print(\"Départ :\", df_flux_vert_depart.head())\n",
    "print(\"Destination :\", df_flux_vert_destination.head())\n",
    "\n",
    "df_flux_rouge_depart = flux_rouge.sum(axis=1).reset_index()\n",
    "df_flux_rouge_depart.columns = ['COMMUNE', 'flux_depart']\n",
    "\n",
    "# Pour les arrivées : somme sur l'axe des lignes (chaque colonne = ville d'arrivée)\n",
    "df_flux_rouge_destination = flux_rouge.sum(axis=0).reset_index()\n",
    "df_flux_rouge_destination.columns = ['DCLT', 'flux_destination']\n",
    "\n",
    "print(\"Départ :\", df_flux_rouge_depart.head())\n",
    "print(\"Destination :\", df_flux_rouge_destination.head())\n"
   ]
  },
  {
   "cell_type": "code",
   "execution_count": 33,
   "metadata": {},
   "outputs": [],
   "source": [
    "df_flux_jaune_depart_m = pd.merge(\n",
    "        contours_comm[['INSEE_COM', 'NOM', 'POPULATION', 'INSEE_DEP', 'SIREN_EPCI', 'geometry']],\n",
    "        df_flux_jaune_depart,\n",
    "        left_on='INSEE_COM',\n",
    "        right_on=\"COMMUNE\",\n",
    "        how='left')\n",
    "df_flux_jaune_depart_m[\"flux_depart\"] = df_flux_jaune_depart_m[\"flux_depart\"].fillna(0).astype(int)\n",
    "\n",
    "df_flux_vert_depart_m = pd.merge(\n",
    "        contours_comm[['INSEE_COM', 'NOM', 'POPULATION', 'INSEE_DEP', 'SIREN_EPCI', 'geometry']],\n",
    "        df_flux_vert_depart,\n",
    "        left_on='INSEE_COM',\n",
    "        right_on=\"COMMUNE\",\n",
    "        how='left')\n",
    "df_flux_vert_depart_m[\"flux_depart\"] = df_flux_vert_depart_m[\"flux_depart\"].fillna(0).astype(int)\n",
    "\n",
    "df_flux_rouge_depart_m = pd.merge(\n",
    "        contours_comm[['INSEE_COM', 'NOM', 'POPULATION', 'INSEE_DEP', 'SIREN_EPCI', 'geometry']],\n",
    "        df_flux_rouge_depart,\n",
    "        left_on='INSEE_COM',\n",
    "        right_on=\"COMMUNE\",\n",
    "        how='left')\n",
    "df_flux_rouge_depart_m[\"flux_depart\"] = df_flux_rouge_depart_m[\"flux_depart\"].fillna(0).astype(int)\n",
    "\n",
    "\n",
    "df_flux_jaune_destination_m = pd.merge(\n",
    "        contours_comm[['INSEE_COM', 'NOM', 'POPULATION', 'INSEE_DEP', 'SIREN_EPCI', 'geometry']],\n",
    "        df_flux_jaune_destination,\n",
    "        left_on='INSEE_COM',\n",
    "        right_on=\"DCLT\",\n",
    "        how='left')\n",
    "df_flux_jaune_destination_m[\"flux_destination\"] = df_flux_jaune_destination_m[\"flux_destination\"].fillna(0).astype(int)\n",
    "\n",
    "df_flux_vert_destination_m = pd.merge(\n",
    "        contours_comm[['INSEE_COM', 'NOM', 'POPULATION', 'INSEE_DEP', 'SIREN_EPCI', 'geometry']],\n",
    "        df_flux_vert_destination,\n",
    "        left_on='INSEE_COM',\n",
    "        right_on=\"DCLT\",\n",
    "        how='left')\n",
    "df_flux_vert_destination_m[\"flux_destination\"] = df_flux_vert_destination_m[\"flux_destination\"].fillna(0).astype(int)\n",
    "\n",
    "df_flux_rouge_destination_m = pd.merge(\n",
    "        contours_comm[['INSEE_COM', 'NOM', 'POPULATION', 'INSEE_DEP', 'SIREN_EPCI', 'geometry']],\n",
    "        df_flux_rouge_destination,\n",
    "        left_on='INSEE_COM',\n",
    "        right_on=\"DCLT\",\n",
    "        how='left')\n",
    "df_flux_rouge_destination_m[\"flux_destination\"] = df_flux_rouge_destination_m[\"flux_destination\"].fillna(0).astype(int)"
   ]
  },
  {
   "cell_type": "code",
   "execution_count": null,
   "metadata": {},
   "outputs": [],
   "source": [
    "plot_flux_gradient(df_flux_rouge_depart_m, \"rouge\", \"Figure - Flux (domicile-travail) de départ \\n en voiture/moto par commune\",\"flux_depart\")"
   ]
  },
  {
   "cell_type": "code",
   "execution_count": null,
   "metadata": {},
   "outputs": [],
   "source": [
    "plot_flux_gradient(df_flux_jaune_depart_m, \"jaune\", \"Figure - Flux (domicile-travail) de départ \\n en transport en commun par commune\",\"flux_depart\")"
   ]
  },
  {
   "cell_type": "code",
   "execution_count": null,
   "metadata": {},
   "outputs": [],
   "source": [
    "plot_flux_gradient(df_flux_vert_depart_m, \"vert\", \"Figure - Flux (domicile-travail) de départ \\n à pied\",\"flux_depart\")"
   ]
  },
  {
   "cell_type": "code",
   "execution_count": null,
   "metadata": {},
   "outputs": [],
   "source": [
    "plot_flux_gradient(df_flux_rouge_destination_m, \"rouge\", \"Figure - Flux (domicile-travail) d'arrivée \\n en voiture/moto\",\"flux_destination\")"
   ]
  },
  {
   "cell_type": "code",
   "execution_count": null,
   "metadata": {},
   "outputs": [],
   "source": [
    "plot_flux_gradient(df_flux_jaune_destination_m, \"jaune\", \"Figure - Flux (domicile-travail) d'arrivée \\n en transport en commun\",\"flux_destination\")"
   ]
  },
  {
   "cell_type": "code",
   "execution_count": null,
   "metadata": {},
   "outputs": [],
   "source": [
    "plot_flux_gradient(df_flux_vert_destination_m, \"vert\", \"Figure - Flux (domicile-travail) d'arrivée \\n à pied\",\"flux_destination\")"
   ]
  }
 ],
 "metadata": {
  "kernelspec": {
   "display_name": "base",
   "language": "python",
   "name": "python3"
  },
  "language_info": {
   "codemirror_mode": {
    "name": "ipython",
    "version": 3
   },
   "file_extension": ".py",
   "mimetype": "text/x-python",
   "name": "python",
   "nbconvert_exporter": "python",
   "pygments_lexer": "ipython3",
   "version": "3.12.7"
  }
 },
 "nbformat": 4,
 "nbformat_minor": 2
}
