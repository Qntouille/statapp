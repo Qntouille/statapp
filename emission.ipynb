{
 "cells": [
  {
   "cell_type": "code",
   "execution_count": null,
   "id": "bbe6d233",
   "metadata": {},
   "outputs": [],
   "source": [
    "import pandas as pd\n",
    "import s3fs"
   ]
  },
  {
   "cell_type": "code",
   "execution_count": null,
   "id": "c0af28dd",
   "metadata": {},
   "outputs": [],
   "source": [
    "fs = s3fs.S3FileSystem(client_kwargs={\"endpoint_url\": \"https://minio.lab.sspcloud.fr\"})\n",
    "MY_BUCKET = \"williamolivier\"\n",
    "\n",
    "FILE_PATH_S3_FVDEP = f\"{MY_BUCKET}/diffusion/epci_features_7.csv\"\n",
    "with fs.open(FILE_PATH_S3_FVDEP, \"rb\") as file:\n",
    "    epci_features_7 = pd.read_csv(file)\n",
    "\n",
    "FILE_PATH_S3_FVDEP = f\"{MY_BUCKET}/diffusion/epci_features_6.csv\"\n",
    "with fs.open(FILE_PATH_S3_FVDEP, \"rb\") as file:\n",
    "    epci_features_6 = pd.read_csv(file)\n",
    "\n",
    "FILE_PATH_S3_FVDEP = f\"{MY_BUCKET}/diffusion/epci_features_5.csv\"\n",
    "with fs.open(FILE_PATH_S3_FVDEP, \"rb\") as file:\n",
    "    epci_features_5 = pd.read_csv(file)\n",
    "\n",
    "FILE_PATH_S3_FVDEP = f\"{MY_BUCKET}/diffusion/epci_features_4.csv\"\n",
    "with fs.open(FILE_PATH_S3_FVDEP, \"rb\") as file:\n",
    "    epci_features_4 = pd.read_csv(file)"
   ]
  },
  {
   "cell_type": "markdown",
   "id": "bb06785d",
   "metadata": {},
   "source": [
    "étape 1 : Il faut choisir un clustering parmi les 4 (on demandera l'avis de Nicolas) et pour chaque cluster trouver une composition moyenne des transports en communs utilisé (ex 80% metro et 10% train et 10% bus pour le cluster ou y'a que paris, etc)\n",
    "\n",
    "étape 2 : Il faut écrire un dictionnaire qui recense pour chaque type de transport en commun son émission moy/km \n",
    "\n",
    "étape 3 : Créer une nouvelle colonne sur un des 4 tableaux (selon le clustering retenu) qui donnerait une émission moyenne pour chaque EPCI (soit global, soit par type de flux (séparer rouge et jaune? à voir))\n",
    "\n",
    "-> pour cette étape voir si + pertinent de prendre les flux entrant ou sortant ? ou une moyenne des 2 ?\n",
    "\n",
    "étape 4 : trouver un moyen de repérer les mauvais élèves (par exemple ceux dont l'émission associée calculée est aberrante ou plus élevée par rapport aux autres EPCI du même cluster)\n",
    "\n",
    "-> pour cette étape trouver un indicateurs pour détecter les mauvais élève (ex arbitraire 50% aus dessus de la moyenne) mais voir si on peut trouver un meilleur indicateur bien justifier"
   ]
  },
  {
   "cell_type": "markdown",
   "id": "4ee1c0b2",
   "metadata": {},
   "source": []
  }
 ],
 "metadata": {
  "language_info": {
   "name": "python"
  }
 },
 "nbformat": 4,
 "nbformat_minor": 5
}
