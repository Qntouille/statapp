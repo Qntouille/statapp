{
 "cells": [
  {
   "cell_type": "code",
   "execution_count": 25,
   "id": "711424ea",
   "metadata": {},
   "outputs": [
    {
     "name": "stdout",
     "output_type": "stream",
     "text": [
      "Requirement already satisfied: networkx in /usr/local/lib/python3.12/site-packages (3.4.2)\n",
      "\n",
      "\u001b[1m[\u001b[0m\u001b[34;49mnotice\u001b[0m\u001b[1;39;49m]\u001b[0m\u001b[39;49m A new release of pip is available: \u001b[0m\u001b[31;49m25.0.1\u001b[0m\u001b[39;49m -> \u001b[0m\u001b[32;49m25.1\u001b[0m\n",
      "\u001b[1m[\u001b[0m\u001b[34;49mnotice\u001b[0m\u001b[1;39;49m]\u001b[0m\u001b[39;49m To update, run: \u001b[0m\u001b[32;49mpip install --upgrade pip\u001b[0m\n",
      "Note: you may need to restart the kernel to use updated packages.\n"
     ]
    }
   ],
   "source": [
    "pip install networkx"
   ]
  },
  {
   "cell_type": "code",
   "execution_count": 26,
   "id": "e788ef07",
   "metadata": {},
   "outputs": [
    {
     "name": "stdout",
     "output_type": "stream",
     "text": [
      "Requirement already satisfied: haversine in /usr/local/lib/python3.12/site-packages (2.9.0)\n",
      "\n",
      "\u001b[1m[\u001b[0m\u001b[34;49mnotice\u001b[0m\u001b[1;39;49m]\u001b[0m\u001b[39;49m A new release of pip is available: \u001b[0m\u001b[31;49m25.0.1\u001b[0m\u001b[39;49m -> \u001b[0m\u001b[32;49m25.1\u001b[0m\n",
      "\u001b[1m[\u001b[0m\u001b[34;49mnotice\u001b[0m\u001b[1;39;49m]\u001b[0m\u001b[39;49m To update, run: \u001b[0m\u001b[32;49mpip install --upgrade pip\u001b[0m\n",
      "Note: you may need to restart the kernel to use updated packages.\n"
     ]
    }
   ],
   "source": [
    "pip install haversine"
   ]
  },
  {
   "cell_type": "code",
   "execution_count": null,
   "id": "83825e29",
   "metadata": {},
   "outputs": [],
   "source": [
    "from script import df_mobpro_brut, arr_marseille, arr_paris, arr_lyon, contours_comm, transport_dict, contours_comm, flux, plot_flux_gradient, plot_flux_gradient_zoom, coord_villes\n",
    "from script import df_dossier_complet_brut, mairies\n",
    "import matplotlib.pyplot as plt\n",
    "import pandas as pd\n",
    "import geopandas as gpd\n",
    "import seaborn as sns\n",
    "import numpy as np\n",
    "import matplotlib.colors as colors\n",
    "import networkx as nx\n",
    "from scipy.sparse import coo_matrix\n",
    "from shapely.geometry import Point\n",
    "from shapely.ops import unary_union\n",
    "from haversine import haversine"
   ]
  },
  {
   "cell_type": "code",
   "execution_count": 42,
   "id": "5075cd19",
   "metadata": {},
   "outputs": [],
   "source": [
    "# Calculer le trajet interne\n",
    "def approx_internal_distance(geom):\n",
    "    bounds = geom.bounds  # (minx, miny, maxx, maxy)\n",
    "    point_min = (bounds[1], bounds[0])  # (lat_min, lon_min)\n",
    "    point_max = (bounds[3], bounds[2])  # (lat_max, lon_max)\n",
    "    return haversine(point_min, point_max)\n",
    "\n",
    "contours_comm['distance_intra'] = contours_comm['geometry'].apply(approx_internal_distance)/2 # On divise par 2 la diag pour les intra\n",
    "distance_intra_dict = contours_comm.set_index('INSEE_COM')['distance_intra'].to_dict() # Dictionnaire des distances intra\n",
    "\n",
    "# Calculer les trajets entre villes\n",
    "mairies_unique = mairies.drop_duplicates(subset='Code INSEE') # Garder une seule mairie pour chaque ville\n",
    "coords_mairies = mairies_unique.set_index('Code INSEE')[['lat', 'lon']].to_dict('index') \n",
    "\n",
    "# Fonction pour calculer la distance\n",
    "def calculer_distance(code_depart, code_arrivee):\n",
    "    if code_depart == code_arrivee:\n",
    "        # Trajet intra-communal\n",
    "        return distance_intra_dict.get(code_depart, 3.0)  # Fallback 3km si pas trouvé\n",
    "    else:\n",
    "        # Trajet intercommunal\n",
    "        coords_depart = coords_mairies.get(code_depart)\n",
    "        coords_arrivee = coords_mairies.get(code_arrivee)\n",
    "        \n",
    "        if coords_depart is None or coords_arrivee is None:\n",
    "            return None  # Impossible de calculer (missing coords)\n",
    "        \n",
    "        return haversine((coords_depart['lat'], coords_depart['lon']),\n",
    "                         (coords_arrivee['lat'], coords_arrivee['lon']))\n",
    "\n",
    "df_mobpro_brut['distance_km'] = df_mobpro_brut.apply(\n",
    "    lambda row: calculer_distance(row['COMMUNE'], row['DCLT']),\n",
    "    axis=1)\n"
   ]
  }
 ],
 "metadata": {
  "kernelspec": {
   "display_name": "Python 3",
   "language": "python",
   "name": "python3"
  },
  "language_info": {
   "codemirror_mode": {
    "name": "ipython",
    "version": 3
   },
   "file_extension": ".py",
   "mimetype": "text/x-python",
   "name": "python",
   "nbconvert_exporter": "python",
   "pygments_lexer": "ipython3",
   "version": "3.12.9"
  }
 },
 "nbformat": 4,
 "nbformat_minor": 5
}
