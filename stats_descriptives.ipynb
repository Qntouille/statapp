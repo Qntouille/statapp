{
 "cells": [
  {
   "cell_type": "code",
   "execution_count": 2,
   "metadata": {},
   "outputs": [
    {
     "name": "stderr",
     "output_type": "stream",
     "text": [
      "/tmp/ipykernel_6841/3590069945.py:14: DtypeWarning: Columns (1,1687,1688) have mixed types. Specify dtype option on import or set low_memory=False.\n",
      "  df_dossier_complet_brut = pd.read_csv(file)\n",
      "/tmp/ipykernel_6841/3590069945.py:19: DtypeWarning: Columns (4,8) have mixed types. Specify dtype option on import or set low_memory=False.\n",
      "  df_meta_dossier_complet_brut = pd.read_csv(file)\n",
      "/tmp/ipykernel_6841/3590069945.py:24: DtypeWarning: Columns (1,2,3,4,14,15,16,18,22,24,27,30,31,32) have mixed types. Specify dtype option on import or set low_memory=False.\n",
      "  df_mobpro_brut = pd.read_csv(file)\n"
     ]
    }
   ],
   "source": [
    "import s3fs\n",
    "import pandas as pd\n",
    "\n",
    "# Information d'accès au cloud MinIO (Bucket de William)\n",
    "fs = s3fs.S3FileSystem(client_kwargs={\"endpoint_url\": \"https://minio.lab.sspcloud.fr\"})\n",
    "MY_BUCKET = \"williamolivier\"\n",
    "\n",
    "# Vérification du contenu\n",
    "fs.ls(f\"{MY_BUCKET}/diffusion\")\n",
    "\n",
    "# Récupération des tableaux\n",
    "FILE_PATH_S3_DCB = f\"{MY_BUCKET}/diffusion/df_dossier_complet_brut.csv\"\n",
    "with fs.open(FILE_PATH_S3_DCB, \"rb\") as file:\n",
    "    df_dossier_complet_brut = pd.read_csv(file)\n",
    "\n",
    "# Récupération des tableaux\n",
    "FILE_PATH_S3_MDCB = f\"{MY_BUCKET}/diffusion/df_meta_dossier_complet_brut.csv\"\n",
    "with fs.open(FILE_PATH_S3_MDCB, \"rb\") as file:\n",
    "    df_meta_dossier_complet_brut = pd.read_csv(file)\n",
    "\n",
    "# Récupération des tableaux\n",
    "FILE_PATH_S3_MB = f\"{MY_BUCKET}/diffusion/df_mobpro_brut.csv\"\n",
    "with fs.open(FILE_PATH_S3_MB, \"rb\") as file:\n",
    "    df_mobpro_brut = pd.read_csv(file)\n",
    "\n",
    "# Récupération des tableaux\n",
    "FILE_PATH_S3_MMB = f\"{MY_BUCKET}/diffusion/df_meta_mobpro_brut.csv\"\n",
    "with fs.open(FILE_PATH_S3_MMB, \"rb\") as file:\n",
    "    df_meta_mobpro_brut = pd.read_csv(file)\n"
   ]
  },
  {
   "cell_type": "code",
   "execution_count": 3,
   "metadata": {},
   "outputs": [
    {
     "data": {
      "text/html": [
       "<div>\n",
       "<style scoped>\n",
       "    .dataframe tbody tr th:only-of-type {\n",
       "        vertical-align: middle;\n",
       "    }\n",
       "\n",
       "    .dataframe tbody tr th {\n",
       "        vertical-align: top;\n",
       "    }\n",
       "\n",
       "    .dataframe thead th {\n",
       "        text-align: right;\n",
       "    }\n",
       "</style>\n",
       "<table border=\"1\" class=\"dataframe\">\n",
       "  <thead>\n",
       "    <tr style=\"text-align: right;\">\n",
       "      <th></th>\n",
       "      <th>Unnamed: 0</th>\n",
       "      <th>COMMUNE</th>\n",
       "      <th>ARM</th>\n",
       "      <th>DCFLT</th>\n",
       "      <th>DCLT</th>\n",
       "      <th>AGEREVQ</th>\n",
       "      <th>CS1</th>\n",
       "      <th>DEROU</th>\n",
       "      <th>DIPL</th>\n",
       "      <th>EMPL</th>\n",
       "      <th>...</th>\n",
       "      <th>REGION</th>\n",
       "      <th>REGLT</th>\n",
       "      <th>SEXE</th>\n",
       "      <th>STAT</th>\n",
       "      <th>STOCD</th>\n",
       "      <th>TP</th>\n",
       "      <th>TRANS</th>\n",
       "      <th>TYPL</th>\n",
       "      <th>TYPMR</th>\n",
       "      <th>VOIT</th>\n",
       "    </tr>\n",
       "  </thead>\n",
       "  <tbody>\n",
       "    <tr>\n",
       "      <th>5127697</th>\n",
       "      <td>5127697</td>\n",
       "      <td>74243</td>\n",
       "      <td>ZZZZZ</td>\n",
       "      <td>99999</td>\n",
       "      <td>74082</td>\n",
       "      <td>45</td>\n",
       "      <td>5</td>\n",
       "      <td>Z</td>\n",
       "      <td>12</td>\n",
       "      <td>16</td>\n",
       "      <td>...</td>\n",
       "      <td>84</td>\n",
       "      <td>84</td>\n",
       "      <td>2</td>\n",
       "      <td>10</td>\n",
       "      <td>23</td>\n",
       "      <td>1</td>\n",
       "      <td>6</td>\n",
       "      <td>2</td>\n",
       "      <td>41</td>\n",
       "      <td>1</td>\n",
       "    </tr>\n",
       "  </tbody>\n",
       "</table>\n",
       "<p>1 rows × 33 columns</p>\n",
       "</div>"
      ],
      "text/plain": [
       "         Unnamed: 0 COMMUNE    ARM  DCFLT   DCLT  AGEREVQ  CS1 DEROU  DIPL  \\\n",
       "5127697     5127697   74243  ZZZZZ  99999  74082       45    5     Z    12   \n",
       "\n",
       "         EMPL  ...  REGION  REGLT  SEXE  STAT STOCD TP TRANS  TYPL TYPMR VOIT  \n",
       "5127697    16  ...      84     84     2    10    23  1     6     2    41    1  \n",
       "\n",
       "[1 rows x 33 columns]"
      ]
     },
     "execution_count": 3,
     "metadata": {},
     "output_type": "execute_result"
    }
   ],
   "source": [
    "df_mobpro_brut.sample() "
   ]
  },
  {
   "cell_type": "code",
   "execution_count": null,
   "metadata": {},
   "outputs": [],
   "source": []
  }
 ],
 "metadata": {
  "kernelspec": {
   "display_name": "base",
   "language": "python",
   "name": "python3"
  },
  "language_info": {
   "codemirror_mode": {
    "name": "ipython",
    "version": 3
   },
   "file_extension": ".py",
   "mimetype": "text/x-python",
   "name": "python",
   "nbconvert_exporter": "python",
   "pygments_lexer": "ipython3",
   "version": "3.12.7"
  }
 },
 "nbformat": 4,
 "nbformat_minor": 2
}
