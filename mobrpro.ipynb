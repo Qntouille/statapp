{
 "cells": [
  {
   "cell_type": "code",
   "execution_count": 5,
   "metadata": {},
   "outputs": [],
   "source": [
    "import s3fs\n",
    "import pandas as pd"
   ]
  },
  {
   "cell_type": "code",
   "execution_count": 6,
   "metadata": {},
   "outputs": [],
   "source": [
    "# Information d'accès au cloud MinIO (Bucket de William)\n",
    "fs = s3fs.S3FileSystem(client_kwargs={\"endpoint_url\": \"https://minio.lab.sspcloud.fr\"})\n",
    "MY_BUCKET = \"williamolivier\""
   ]
  },
  {
   "cell_type": "code",
   "execution_count": null,
   "metadata": {},
   "outputs": [],
   "source": [
    "# Vérification du contenu\n",
    "fs.ls(f\"{MY_BUCKET}/diffusion\")"
   ]
  },
  {
   "cell_type": "code",
   "execution_count": null,
   "metadata": {},
   "outputs": [],
   "source": [
    "# Récupération des tableaux\n",
    "FILE_PATH_S3_DCB = f\"{MY_BUCKET}/diffusion/df_dossier_complet_brut.csv\"\n",
    "with fs.open(FILE_PATH_S3_DCB, \"rb\") as file:\n",
    "    df_dossier_complet_brut = pd.read_csv(file)\n",
    "\n",
    "# Récupération des tableaux\n",
    "FILE_PATH_S3_MDCB = f\"{MY_BUCKET}/diffusion/df_meta_dossier_complet_brut.csv\"\n",
    "with fs.open(FILE_PATH_S3_MDCB, \"rb\") as file:\n",
    "    df_meta_dossier_complet_brut = pd.read_csv(file)\n",
    "\n",
    "# Récupération des tableaux\n",
    "FILE_PATH_S3_MB = f\"{MY_BUCKET}/diffusion/df_mobpro_brut.csv\"\n",
    "with fs.open(FILE_PATH_S3_MB, \"rb\") as file:\n",
    "    df_mobpro_brut = pd.read_csv(file)\n",
    "\n",
    "# Récupération des tableaux\n",
    "FILE_PATH_S3_MMB = f\"{MY_BUCKET}/diffusion/df_meta_mobpro_brut.csv\"\n",
    "with fs.open(FILE_PATH_S3_MMB, \"rb\") as file:\n",
    "    df_meta_mobpro_brut = pd.read_csv(file)"
   ]
  },
  {
   "cell_type": "code",
   "execution_count": null,
   "metadata": {},
   "outputs": [],
   "source": [
    "df_mobpro_brut.sample()"
   ]
  },
  {
   "cell_type": "code",
   "execution_count": 65,
   "metadata": {},
   "outputs": [],
   "source": [
    "# Homogénéisation des codes insee (tous en chaîne de caractère)\n",
    "df_mobpro_brut[\"COMMUNE\"] = df_mobpro_brut[\"COMMUNE\"].astype(str).str.zfill(5)\n",
    "df_mobpro_brut[\"DCLT\"] = df_mobpro_brut[\"DCLT\"].astype(str).str.zfill(5)\n",
    "df_mobpro_brut[\"ARM\"] = df_mobpro_brut[\"ARM\"].astype(str).str.zfill(5)"
   ]
  },
  {
   "cell_type": "markdown",
   "metadata": {},
   "source": [
    "La fonction ci-dessous permet d'obtenir un premier tableau regroupant ceratines informations par commune :\n",
    "- Nombre de personnes du ménage (regroupé)\n",
    "- Nombre de personnes scolarisées du ménage\n",
    "- Nombre de personnes actives ayant un emploi du ménage\n",
    "- Nombre d'élèves, étudiants ou stagiaires âgés de 14 ans ou plus du ménage\n",
    "- Indicateur du lieu de travail\n",
    "(1 Dans la commune de résidence actuelle\n",
    "2 Dans une autre commune du département de résidence\n",
    "3 Dans un autre département de la région de résidence\n",
    "4 Hors de la région de résidence actuelle : en métropole\n",
    "5 Hors de la région de résidence actuelle : dans un DOM\n",
    "6 Hors de la région de résidence actuelle : dans une COM\n",
    "7 A l'étranger)"
   ]
  },
  {
   "cell_type": "code",
   "execution_count": 11,
   "metadata": {},
   "outputs": [],
   "source": [
    "# Conversion des colonnes en numérique\n",
    "df_mobpro_brut['NPERR'] = pd.to_numeric(df_mobpro_brut['NPERR'], errors='coerce')\n",
    "df_mobpro_brut['INPSM'] = pd.to_numeric(df_mobpro_brut['INPSM'], errors='coerce')\n",
    "df_mobpro_brut['INPOM'] = pd.to_numeric(df_mobpro_brut['INPOM'], errors='coerce')\n",
    "df_mobpro_brut['INEEM'] = pd.to_numeric(df_mobpro_brut['INEEM'], errors='coerce')\n",
    "\n",
    "# Création des agrégations de base\n",
    "mobpro_villes = df_mobpro_brut.groupby('COMMUNE').agg({\n",
    "    'NPERR': 'sum',\n",
    "    'INPSM': 'sum',\n",
    "    'INPOM': 'sum',\n",
    "    'INEEM': 'sum'})\n",
    "\n",
    "# Créons d'abord un DataFrame temporaire pour chaque valeur d'ILT\n",
    "for i in range(1, 8):\n",
    "    # Grouper par COMMUNE et compter les occurrences où ILT == str(i)\n",
    "    temp_count = df_mobpro_brut[df_mobpro_brut['ILT'] == i].groupby('COMMUNE').size()\n",
    "    # Ajouter cette série au DataFrame principal\n",
    "    mobpro_villes[f'ILT_{i}'] = temp_count\n",
    "\n",
    "# Remplir les NaN par 0\n",
    "mobpro_villes = mobpro_villes.fillna(0)\n",
    "\n",
    "# Réinitialisation de l'index\n",
    "mobpro_villes = mobpro_villes.reset_index()\n"
   ]
  },
  {
   "cell_type": "code",
   "execution_count": null,
   "metadata": {},
   "outputs": [],
   "source": [
    "mobpro_villes"
   ]
  },
  {
   "cell_type": "markdown",
   "metadata": {},
   "source": [
    "# Matrice des flux"
   ]
  },
  {
   "cell_type": "markdown",
   "metadata": {},
   "source": [
    "On souhaite créer une matrice des flux pour avoir une vision générale des trajets domicile-travail quotidiens entre les villes. Pour chaque couple de ville, le nombre correspondant dans la matrice correspond au nombre de commute effectué de la ville 1 à la ville 2."
   ]
  },
  {
   "cell_type": "markdown",
   "metadata": {},
   "source": [
    "On remarque que pour la variable \"COMMUNE\" (commune de résidence) on a uniquement 75056 pour Paris (idem pour Lyon et Marseille), tandis que pour la variable \"DCLT\" (commune de travail) on a un découpage en arrondissement avec les codes 75101,... pour Paris (idem pour Lyon et Marseille). Afin de pallier cette différence, on se cale sur l'échelle des arrondissements en remplaçant la valeur de \"COMMUNE\" par celle de \"ARM\" lorsque la ville en question est Paris, Marseille ou Lyon."
   ]
  },
  {
   "cell_type": "code",
   "execution_count": null,
   "metadata": {},
   "outputs": [],
   "source": [
    "# On vérifie qu'il y a autant de lignes avec un arrondissement indiqué et de lignes dont la ville de résidence est soit Paris, soit Marseille, soit Lyon (cohérence entre \"ARM\" et \"COMMUNE\")\n",
    "assert len(df_mobpro_brut[df_mobpro_brut['ARM']!=\"ZZZZZ\"])== len(df_mobpro_brut[\n",
    "    (df_mobpro_brut['COMMUNE'] == '75056') | \n",
    "    (df_mobpro_brut['COMMUNE'] == '13055') | \n",
    "    (df_mobpro_brut['COMMUNE'] == '69123'])\n",
    "\n",
    "# Liste des codes insee d'arrondissements\n",
    "arr_paris = [f\"751{str(i).zfill(2)}\" for i in range(1, 21)]\n",
    "arr_marseille = [f\"132{str(i).zfill(2)}\" for i in range(1, 17)]\n",
    "arr_lyon = [f\"6938{str(i).zfill(1)}\" for i in range(1, 10)]"
   ]
  },
  {
   "cell_type": "code",
   "execution_count": 66,
   "metadata": {},
   "outputs": [],
   "source": [
    "df_mobpro_brut.loc[\n",
    "    df_mobpro_brut['COMMUNE'].isin(['75056', '13055', '69123']), 'COMMUNE'\n",
    "] = df_mobpro_brut['ARM']"
   ]
  },
  {
   "cell_type": "markdown",
   "metadata": {},
   "source": [
    "On établit maintenant la matrice des flux."
   ]
  },
  {
   "cell_type": "code",
   "execution_count": null,
   "metadata": {},
   "outputs": [],
   "source": [
    "# Création d'une table croisée dynamique pour compter les déplacements\n",
    "matrice_flux = pd.crosstab(df_mobpro_brut['COMMUNE'], df_mobpro_brut['DCLT'])\n",
    "\n",
    "# Conversion en DataFrame pour plus de clarté\n",
    "matrice_flux = pd.DataFrame(matrice_flux)\n",
    "\n",
    "# En option, si vous voulez réinitialiser l'index pour avoir COMMUNE comme colonne\n",
    "# matrice_flux = matrice_flux.reset_index()\n",
    "\n",
    "# Pour voir les dimensions de la matrice\n",
    "print(\"Dimensions de la matrice :\", matrice_flux.shape)"
   ]
  },
  {
   "cell_type": "code",
   "execution_count": null,
   "metadata": {},
   "outputs": [],
   "source": [
    "matrice_flux"
   ]
  },
  {
   "cell_type": "code",
   "execution_count": 15,
   "metadata": {},
   "outputs": [],
   "source": [
    "def flux(ville_a,ville_b):\n",
    "    '''\n",
    "    Prends en arg deux codes insee en chaîne de caractère et renvoie le nombre de commute entre ces deux villes\n",
    "    '''\n",
    "    flux = matrice_flux.loc[ville_a, ville_b]\n",
    "    print(f\"Nombre de personnes se déplaçant de {ville_a} vers {ville_b} : {flux}\")\n"
   ]
  },
  {
   "cell_type": "code",
   "execution_count": null,
   "metadata": {},
   "outputs": [],
   "source": [
    "flux('78220', '75108')"
   ]
  },
  {
   "cell_type": "code",
   "execution_count": null,
   "metadata": {},
   "outputs": [],
   "source": [
    "# Top 10 des villes générant le plus de déplacements\n",
    "top_villes_depart = matrice_flux.sum(axis=1).sort_values(ascending=False).head(10)\n",
    "top_villes_arrivee = matrice_flux.sum(axis=0).sort_values(ascending=False).head(10)\n",
    "\n",
    "print(\"Top 10 villes de départ :\\n\", top_villes_depart)\n",
    "print(\"Top 10 villes d'arrivée :\\n\", top_villes_arrivee)\n",
    "\n"
   ]
  },
  {
   "cell_type": "code",
   "execution_count": null,
   "metadata": {},
   "outputs": [],
   "source": [
    "import networkx as nx\n",
    "import matplotlib.pyplot as plt\n",
    "\n",
    "# Création du graphe\n",
    "G = nx.Graph()\n",
    "\n",
    "# Ajouter les arêtes (villes liées par des flux)\n",
    "for index, row in matrice_flux.iterrows():\n",
    "    for col, val in row.items():\n",
    "        if val > 1000:  # Seulement si le flux est significatif\n",
    "            G.add_edge(index, col, weight=val)\n",
    "\n",
    "# Dessiner le graphe\n",
    "plt.figure(figsize=(10, 8))\n",
    "pos = nx.spring_layout(G, seed=42)\n",
    "nx.draw(G, pos, with_labels=True, node_size=700, font_size=10, edge_color='gray')\n",
    "\n",
    "plt.title(\"Graphique des flux domicile-travail\")\n",
    "plt.show()\n"
   ]
  },
  {
   "cell_type": "markdown",
   "metadata": {},
   "source": [
    "Idée : \n",
    "\n",
    "Identification des zones à forte dépendance à la voiture\n",
    "\n",
    "Estimation des émissions de CO₂ par trajet (introduire la distance entre les villes)"
   ]
  }
 ],
 "metadata": {
  "kernelspec": {
   "display_name": "base",
   "language": "python",
   "name": "python3"
  },
  "language_info": {
   "codemirror_mode": {
    "name": "ipython",
    "version": 3
   },
   "file_extension": ".py",
   "mimetype": "text/x-python",
   "name": "python",
   "nbconvert_exporter": "python",
   "pygments_lexer": "ipython3",
   "version": "3.12.7"
  }
 },
 "nbformat": 4,
 "nbformat_minor": 2
}
