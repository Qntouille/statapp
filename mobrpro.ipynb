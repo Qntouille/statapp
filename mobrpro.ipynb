{
 "cells": [
  {
   "cell_type": "code",
   "execution_count": 1,
   "metadata": {},
   "outputs": [],
   "source": [
    "import pandas as pd"
   ]
  },
  {
   "cell_type": "code",
   "execution_count": null,
   "metadata": {},
   "outputs": [],
   "source": [
    "from script import df_mobpro_brut, arr_marseille, arr_paris, arr_lyon"
   ]
  },
  {
   "cell_type": "code",
   "execution_count": null,
   "metadata": {},
   "outputs": [],
   "source": [
    "df_mobpro_brut.sample()"
   ]
  },
  {
   "cell_type": "markdown",
   "metadata": {},
   "source": [
    "Ce que signifient chacune des en-têtes de colonnes :  \n",
    "COMMUNE Département et commune du lieu de résidence  \n",
    "ARM Arrondissement municipal de résidence (Paris, Lyon et Marseille)  \n",
    "DCFLT Commune frontalière du lieu de travail  \n",
    "DCLT Département, commune et arrondissement municipal (Paris, Lyon, Marseille) du lieu de travail  \n",
    "AGEREVQ Âge quinquennal en années révolues  \n",
    "CS1 Catégorie socioprofessionnelle en 8 postes  \n",
    "DEROU Nombre de deux-roues à moteur du ménage (DOM)  \n",
    "DIPL_15 Diplôme le plus élevé  \n",
    "EMPL Condition d'emploi  \n",
    "ILTUU Indicateur urbain du lieu de travail  \n",
    "ILT Indicateur du lieu de travail  \n",
    "IMMI Situation quant à l'immigration  \n",
    "INATC Indicateur de nationalité condensé (Français/Étranger)  \n",
    "INEEM Nombre d'élèves, étudiants ou stagiaires âgés de 14 ans ou plus du ménage  \n",
    "INPOM Nombre de personnes actives ayant un emploi du ménage  \n",
    "INPSM Nombre de personnes scolarisées du ménage  \n",
    "IPONDI Poids de l'individu  \n",
    "LPRM Lien à la personne de référence du ménage  \n",
    "METRODOM Indicateur Métropole ou DOM du lieu de résidence  \n",
    "MOCO Mode de cohabitation  \n",
    "NA5 Activité économique regroupée en 5 postes  \n",
    "NPERR Nombre de personnes du ménage (regroupé)  \n",
    "REGION Région du lieu de résidence  \n",
    "REGLT Région du lieu de travail  \n",
    "SEXE Sexe  \n",
    "STAT Statut professionnel  \n",
    "STOCD Statut d'occupation détaillé du logement  \n",
    "TP Temps de travail  \n",
    "TRANS Mode de transport principal le plus souvent utilisé pour aller travailler  \n",
    "TYPL Type de logement  \n",
    "TYPMR Type de ménage regroupé (en 9 postes)  \n",
    "VOIT Nombre de voitures du ménage  "
   ]
  },
  {
   "cell_type": "markdown",
   "metadata": {},
   "source": [
    "La fonction ci-dessous permet d'obtenir un premier tableau regroupant ceratines informations par commune :\n",
    "- Nombre de personnes du ménage (regroupé)\n",
    "- Nombre de personnes scolarisées du ménage\n",
    "- Nombre de personnes actives ayant un emploi du ménage\n",
    "- Nombre d'élèves, étudiants ou stagiaires âgés de 14 ans ou plus du ménage\n",
    "- Indicateur du lieu de travail\n",
    "(1 Dans la commune de résidence actuelle\n",
    "2 Dans une autre commune du département de résidence\n",
    "3 Dans un autre département de la région de résidence\n",
    "4 Hors de la région de résidence actuelle : en métropole\n",
    "5 Hors de la région de résidence actuelle : dans un DOM\n",
    "6 Hors de la région de résidence actuelle : dans une COM\n",
    "7 A l'étranger)"
   ]
  },
  {
   "cell_type": "code",
   "execution_count": 4,
   "metadata": {},
   "outputs": [],
   "source": [
    "# Conversion des colonnes en numérique\n",
    "df_mobpro_brut['NPERR'] = pd.to_numeric(df_mobpro_brut['NPERR'], errors='coerce')\n",
    "df_mobpro_brut['INPSM'] = pd.to_numeric(df_mobpro_brut['INPSM'], errors='coerce')\n",
    "df_mobpro_brut['INPOM'] = pd.to_numeric(df_mobpro_brut['INPOM'], errors='coerce')\n",
    "df_mobpro_brut['INEEM'] = pd.to_numeric(df_mobpro_brut['INEEM'], errors='coerce')\n",
    "\n",
    "# Création des agrégations de base\n",
    "mobpro_villes = df_mobpro_brut.groupby('COMMUNE').agg({\n",
    "    'NPERR': 'sum',\n",
    "    'INPSM': 'sum',\n",
    "    'INPOM': 'sum',\n",
    "    'INEEM': 'sum'})\n",
    "\n",
    "# Créons d'abord un DataFrame temporaire pour chaque valeur d'ILT\n",
    "for i in range(1, 8):\n",
    "    # Grouper par COMMUNE et compter les occurrences où ILT == str(i)\n",
    "    temp_count = df_mobpro_brut[df_mobpro_brut['ILT'] == i].groupby('COMMUNE').size()\n",
    "    # Ajouter cette série au DataFrame principal\n",
    "    mobpro_villes[f'ILT_{i}'] = temp_count\n",
    "\n",
    "# Remplir les valeurs manquantes (NaN) par 0\n",
    "mobpro_villes = mobpro_villes.fillna(0)\n",
    "\n",
    "# Réinitialisation de l'index\n",
    "mobpro_villes = mobpro_villes.reset_index()\n"
   ]
  },
  {
   "cell_type": "code",
   "execution_count": null,
   "metadata": {},
   "outputs": [],
   "source": [
    "mobpro_villes"
   ]
  },
  {
   "cell_type": "markdown",
   "metadata": {},
   "source": [
    "# Matrice des flux"
   ]
  },
  {
   "cell_type": "markdown",
   "metadata": {},
   "source": [
    "On souhaite créer une matrice des flux pour avoir une vision générale des trajets domicile-travail quotidiens entre les villes. Pour chaque couple de ville, le nombre correspondant dans la matrice correspond au nombre de commute effectué de la ville 1 à la ville 2."
   ]
  },
  {
   "cell_type": "markdown",
   "metadata": {},
   "source": [
    "On remarque que pour la variable \"COMMUNE\" (commune de résidence) on a uniquement 75056 pour Paris (idem pour Lyon et Marseille), tandis que pour la variable \"DCLT\" (commune de travail) on a un découpage en arrondissement avec les codes 75101,... pour Paris (idem pour Lyon et Marseille). Afin de pallier cette différence, on se cale sur l'échelle des arrondissements en remplaçant la valeur de \"COMMUNE\" par celle de \"ARM\" lorsque la ville en question est Paris, Marseille ou Lyon."
   ]
  },
  {
   "cell_type": "markdown",
   "metadata": {},
   "source": [
    "On établit maintenant la matrice des flux."
   ]
  },
  {
   "cell_type": "code",
   "execution_count": null,
   "metadata": {},
   "outputs": [],
   "source": [
    "# Création d'une table croisée dynamique pour compter les déplacements\n",
    "flux_tot = pd.crosstab(df_mobpro_brut['COMMUNE'], df_mobpro_brut['DCLT'])\n",
    "\n",
    "# Conversion en DataFrame pour plus de clarté\n",
    "flux_tot = pd.DataFrame(flux_tot)\n",
    "\n",
    "# En option, si on veut réinitialiser l'index pour avoir COMMUNE en colonne :\n",
    "# flux_tot = flux_tot.reset_index()\n",
    "\n",
    "# Pour voir les dimensions de la matrice\n",
    "print(\"Dimensions de la matrice :\", flux_tot.shape)\n",
    "\n",
    "\n",
    "# Filtrer les données pour chaque groupe de transport\n",
    "df_trans_45 = df_mobpro_brut[df_mobpro_brut['TRANS'].isin([4, 5])]\n",
    "df_trans_6 = df_mobpro_brut[df_mobpro_brut['TRANS'] == 6]\n",
    "df_trans_123 = df_mobpro_brut[df_mobpro_brut['TRANS'].isin([1, 2, 3])]\n",
    "\n",
    "# Créer les matrices des flux pour chaque groupe\n",
    "flux_rouge = pd.crosstab(df_trans_45['COMMUNE'], df_trans_45['DCLT'])\n",
    "flux_jaune = pd.crosstab(df_trans_6['COMMUNE'], df_trans_6['DCLT'])\n",
    "flux_vert = pd.crosstab(df_trans_123['COMMUNE'], df_trans_123['DCLT'])\n",
    "\n",
    "# Convertir en DataFrame pour plus de clarté\n",
    "flux_rouge = pd.DataFrame(flux_rouge)\n",
    "flux_jaune = pd.DataFrame(flux_jaune)\n",
    "flux_vert = pd.DataFrame(flux_vert)\n",
    "\n",
    "# Afficher les dimensions des matrices\n",
    "print(\"Dimensions de la matrice (TRANS = 4 ou 5) :\", flux_rouge.shape)\n",
    "print(\"Dimensions de la matrice (TRANS = 6) :\", flux_jaune.shape)\n",
    "print(\"Dimensions de la matrice (TRANS = 1, 2 ou 3) :\", flux_vert.shape)\n"
   ]
  },
  {
   "cell_type": "code",
   "execution_count": null,
   "metadata": {},
   "outputs": [],
   "source": [
    "flux_tot"
   ]
  },
  {
   "cell_type": "code",
   "execution_count": 8,
   "metadata": {},
   "outputs": [],
   "source": [
    "def flux(ville_a,ville_b):\n",
    "    flux = flux_tot.loc[ville_a, ville_b]\n",
    "    print(f\"Nombre de personnes se déplaçant de {ville_a} vers {ville_b} : {flux}\")\n",
    "\n",
    "## Prend en arg deux codes insee en chaîne de caractère et renvoie le nombre de commute entre ces deux villes"
   ]
  },
  {
   "cell_type": "code",
   "execution_count": null,
   "metadata": {},
   "outputs": [],
   "source": [
    "flux('78220', '75108')"
   ]
  },
  {
   "cell_type": "code",
   "execution_count": null,
   "metadata": {},
   "outputs": [],
   "source": [
    "# Top 10 des villes générant le plus de déplacements\n",
    "top_villes_depart = flux_tot.sum(axis=1).sort_values(ascending=False).head(10)\n",
    "top_villes_arrivee = flux_tot.sum(axis=0).sort_values(ascending=False).head(10)\n",
    "\n",
    "print(\"Top 10 villes de départ :\\n\", top_villes_depart)\n",
    "print(\"Top 10 villes d'arrivée :\\n\", top_villes_arrivee)"
   ]
  },
  {
   "cell_type": "code",
   "execution_count": null,
   "metadata": {},
   "outputs": [],
   "source": [
    "import s3fs\n",
    "import json\n",
    "import pandas as pd\n",
    "import geopandas as gpd\n",
    "\n",
    "# Information d'accès au cloud MinIO (Bucket de William)\n",
    "fs = s3fs.S3FileSystem(client_kwargs={\"endpoint_url\": \"https://minio.lab.sspcloud.fr\"})\n",
    "MY_BUCKET = \"williamolivier\"\n",
    "\n",
    "# Récupération des tableaux\n",
    "FILE_PATH_S3_DCB = f\"{MY_BUCKET}/diffusion/a-com2022-topo-2154.json\"\n",
    "with fs.open(FILE_PATH_S3_DCB, \"rb\") as file:\n",
    "    contours_comm = gpd.read_file(file)\n"
   ]
  },
  {
   "cell_type": "code",
   "execution_count": null,
   "metadata": {},
   "outputs": [],
   "source": [
    "# Calcul des centroïdes\n",
    "contours_comm[\"centroid\"] = contours_comm.geometry.centroid\n",
    "# Vérification\n",
    "print(contours_comm[[\"codgeo\", \"centroid\"]].head())\n"
   ]
  },
  {
   "cell_type": "code",
   "execution_count": null,
   "metadata": {},
   "outputs": [],
   "source": [
    "# Vérifier le système de projection\n",
    "print(f\"CRS actuel : {contours_comm.crs}\")\n",
    "\n",
    "# Si le CRS est None, on suppose qu'il est en WGS84 (EPSG:4326)\n",
    "if contours_comm.crs is None:\n",
    "    print(\"⚠️ CRS absent ! Attribution par défaut à WGS84 (EPSG:4326).\")\n",
    "    contours_comm.set_crs(epsg=4326, inplace=True)  # On suppose que les coordonnées sont en lat/lon\n",
    "\n",
    "# Conversion en Lambert 93 (EPSG:2154) si nécessaire\n",
    "if contours_comm.crs.to_string() != \"EPSG:2154\":\n",
    "    contours_comm = contours_comm.to_crs(epsg=2154)\n",
    "    print(\"✅ Projection convertie en Lambert 93 (EPSG:2154)\")\n"
   ]
  },
  {
   "cell_type": "code",
   "execution_count": null,
   "metadata": {},
   "outputs": [],
   "source": [
    "pip install scikit-learn\n"
   ]
  },
  {
   "cell_type": "code",
   "execution_count": null,
   "metadata": {},
   "outputs": [],
   "source": [
    "from sklearn.neighbors import BallTree\n",
    "import numpy as np\n",
    "\n",
    "# Extraire les coordonnées des centroïdes sous forme de tableau NumPy\n",
    "coords = np.array(list(zip(contours_comm[\"centroid\"].x, contours_comm[\"centroid\"].y)))\n",
    "\n",
    "# Construire l'index spatial\n",
    "tree = BallTree(coords, metric=\"euclidean\")\n",
    "\n",
    "# Vérification\n",
    "print(\"Index spatial construit avec scikit-learn !\")\n"
   ]
  },
  {
   "cell_type": "code",
   "execution_count": null,
   "metadata": {},
   "outputs": [],
   "source": [
    "# Dictionnaire pour stocker les distances\n",
    "distance_dict = {}\n",
    "\n",
    "# Trouver les 10 communes les plus proches pour chaque ville\n",
    "k = 10  # Nombre de voisins à considérer\n",
    "\n",
    "for i, codgeo1 in enumerate(contours_comm[\"codgeo\"]):\n",
    "    # Trouver les k plus proches voisins\n",
    "    dist, indices = tree.query([coords[i]], k=k+1)  # +1 car la première distance est toujours 0 (soi-même)\n",
    "\n",
    "    for d, j in zip(dist[0][1:], indices[0][1:]):  # On saute la première (soi-même)\n",
    "        codgeo2 = contours_comm.iloc[j][\"codgeo\"]\n",
    "        \n",
    "        # Clé unique (peu importe l'ordre)\n",
    "        key = tuple(sorted((codgeo1, codgeo2)))\n",
    "\n",
    "        # Stocker la distance (mètres)\n",
    "        distance_dict[key] = d\n",
    "\n",
    "print(\"Distances calculées pour les paires les plus proches !\")\n"
   ]
  },
  {
   "cell_type": "code",
   "execution_count": null,
   "metadata": {},
   "outputs": [],
   "source": [
    "# Afficher quelques distances\n",
    "print(list(distance_dict.items())[:10])  # 10 premières paires\n",
    "\n",
    "# Nombre total de distances calculées\n",
    "print(f\"Nombre total de distances stockées : {len(distance_dict)}\")\n"
   ]
  },
  {
   "cell_type": "code",
   "execution_count": null,
   "metadata": {},
   "outputs": [],
   "source": []
  },
  {
   "cell_type": "code",
   "execution_count": null,
   "metadata": {},
   "outputs": [],
   "source": []
  }
 ],
 "metadata": {
  "kernelspec": {
   "display_name": "base",
   "language": "python",
   "name": "python3"
  },
  "language_info": {
   "codemirror_mode": {
    "name": "ipython",
    "version": 3
   },
   "file_extension": ".py",
   "mimetype": "text/x-python",
   "name": "python",
   "nbconvert_exporter": "python",
   "pygments_lexer": "ipython3",
   "version": "3.12.7"
  }
 },
 "nbformat": 4,
 "nbformat_minor": 2
}
