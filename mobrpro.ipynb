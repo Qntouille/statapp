{
 "cells": [
  {
   "cell_type": "code",
   "execution_count": 8,
   "metadata": {},
   "outputs": [],
   "source": [
    "import s3fs\n",
    "import pandas as pd"
   ]
  },
  {
   "cell_type": "code",
   "execution_count": 3,
   "metadata": {},
   "outputs": [],
   "source": [
    "# Information d'accès au cloud MinIO (Bucket de William)\n",
    "fs = s3fs.S3FileSystem(client_kwargs={\"endpoint_url\": \"https://minio.lab.sspcloud.fr\"})\n",
    "MY_BUCKET = \"williamolivier\""
   ]
  },
  {
   "cell_type": "code",
   "execution_count": null,
   "metadata": {},
   "outputs": [],
   "source": [
    "# Vérification du contenu\n",
    "fs.ls(f\"{MY_BUCKET}/statapp\")"
   ]
  },
  {
   "cell_type": "code",
   "execution_count": null,
   "metadata": {},
   "outputs": [],
   "source": [
    "# Récupération des tableaux\n",
    "FILE_PATH_S3_DCB = f\"{MY_BUCKET}/statapp/df_dossier_complet_brut.csv\"\n",
    "with fs.open(FILE_PATH_S3_DCB, \"rb\") as file:\n",
    "    df_dossier_complet_brut = pd.read_csv(file)\n",
    "\n",
    "# Récupération des tableaux\n",
    "FILE_PATH_S3_MDCB = f\"{MY_BUCKET}/statapp/df_meta_dossier_complet_brut.csv\"\n",
    "with fs.open(FILE_PATH_S3_MDCB, \"rb\") as file:\n",
    "    df_meta_dossier_complet_brut = pd.read_csv(file)\n",
    "\n",
    "# Récupération des tableaux\n",
    "FILE_PATH_S3_MB = f\"{MY_BUCKET}/statapp/df_mobpro_brut.csv\"\n",
    "with fs.open(FILE_PATH_S3_MB, \"rb\") as file:\n",
    "    df_mobpro_brut = pd.read_csv(file)\n",
    "\n",
    "# Récupération des tableaux\n",
    "FILE_PATH_S3_MMB = f\"{MY_BUCKET}/statapp/df_meta_mobpro_brut.csv\"\n",
    "with fs.open(FILE_PATH_S3_MMB, \"rb\") as file:\n",
    "    df_meta_mobpro_brut = pd.read_csv(file)"
   ]
  },
  {
   "cell_type": "code",
   "execution_count": null,
   "metadata": {},
   "outputs": [],
   "source": [
    "df_mobpro_brut.head()"
   ]
  },
  {
   "cell_type": "code",
   "execution_count": null,
   "metadata": {},
   "outputs": [],
   "source": []
  }
 ],
 "metadata": {
  "kernelspec": {
   "display_name": "base",
   "language": "python",
   "name": "python3"
  },
  "language_info": {
   "codemirror_mode": {
    "name": "ipython",
    "version": 3
   },
   "file_extension": ".py",
   "mimetype": "text/x-python",
   "name": "python",
   "nbconvert_exporter": "python",
   "pygments_lexer": "ipython3",
   "version": "3.12.7"
  }
 },
 "nbformat": 4,
 "nbformat_minor": 2
}
