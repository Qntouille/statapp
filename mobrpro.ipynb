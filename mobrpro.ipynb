{
 "cells": [
  {
   "cell_type": "code",
   "execution_count": 1,
   "metadata": {},
   "outputs": [],
   "source": [
    "import s3fs\n",
    "import pandas as pd"
   ]
  },
  {
   "cell_type": "code",
   "execution_count": 2,
   "metadata": {},
   "outputs": [],
   "source": [
    "# Information d'accès au cloud MinIO (Bucket de William)\n",
    "fs = s3fs.S3FileSystem(client_kwargs={\"endpoint_url\": \"https://minio.lab.sspcloud.fr\"})\n",
    "MY_BUCKET = \"williamolivier\""
   ]
  },
  {
   "cell_type": "code",
   "execution_count": null,
   "metadata": {},
   "outputs": [],
   "source": [
    "# Vérification du contenu\n",
    "fs.ls(f\"{MY_BUCKET}/diffusion\")"
   ]
  },
  {
   "cell_type": "code",
   "execution_count": null,
   "metadata": {},
   "outputs": [],
   "source": [
    "# Récupération des tableaux\n",
    "FILE_PATH_S3_DCB = f\"{MY_BUCKET}/diffusion/df_dossier_complet_brut.csv\"\n",
    "with fs.open(FILE_PATH_S3_DCB, \"rb\") as file:\n",
    "    df_dossier_complet_brut = pd.read_csv(file)\n",
    "\n",
    "# Récupération des tableaux\n",
    "FILE_PATH_S3_MDCB = f\"{MY_BUCKET}/diffusion/df_meta_dossier_complet_brut.csv\"\n",
    "with fs.open(FILE_PATH_S3_MDCB, \"rb\") as file:\n",
    "    df_meta_dossier_complet_brut = pd.read_csv(file)\n",
    "\n",
    "# Récupération des tableaux\n",
    "FILE_PATH_S3_MB = f\"{MY_BUCKET}/diffusion/df_mobpro_brut.csv\"\n",
    "with fs.open(FILE_PATH_S3_MB, \"rb\") as file:\n",
    "    df_mobpro_brut = pd.read_csv(file)\n",
    "\n",
    "# Récupération des tableaux\n",
    "FILE_PATH_S3_MMB = f\"{MY_BUCKET}/diffusion/df_meta_mobpro_brut.csv\"\n",
    "with fs.open(FILE_PATH_S3_MMB, \"rb\") as file:\n",
    "    df_meta_mobpro_brut = pd.read_csv(file)"
   ]
  },
  {
   "cell_type": "code",
   "execution_count": null,
   "metadata": {},
   "outputs": [],
   "source": [
    "df_mobpro_brut.sample()"
   ]
  },
  {
   "cell_type": "code",
   "execution_count": null,
   "metadata": {},
   "outputs": [],
   "source": [
    "## Noms des colonnes de la matrice : \n",
    "## COMMUNE Département et commune du lieu de résidence\n",
    "## ARM Arrondissement municipal de résidence (Paris, Lyon et Marseille)\n",
    "#D CFLT Commune frontalière du lieu de travail\n",
    "## DCLT Département, commune et arrondissement municipal (Paris, Lyon, Marseille) du lieu de travail\n",
    "## AGEREVQ Âge quinquennal en années révolues\n",
    "## CS1 Catégorie socioprofessionnelle en 8 postes\n",
    "## DEROU Nombre de deux-roues à moteur du ménage (DOM)\n",
    "## DIPL_15 Diplôme le plus élevé\n",
    "## EMPL Condition d'emploi\n",
    "## ILTUU Indicateur urbain du lieu de travail\n",
    "## ILT Indicateur du lieu de travail\n",
    "## IMMI Situation quant à l'immigration\n",
    "## INATC Indicateur de nationalité condensé (Français/Étranger)\n",
    "## INEEM Nombre d'élèves, étudiants ou stagiaires âgés de 14 ans ou plus du ménage\n",
    "## INPOM Nombre de personnes actives ayant un emploi du ménage\n",
    "## INPSM Nombre de personnes scolarisées du ménage\n",
    "## IPONDI Poids de l'individu\n",
    "## LPRM Lien à la personne de référence du ménage\n",
    "## METRODOM Indicateur Métropole ou DOM du lieu de résidence\n",
    "## MOCO Mode de cohabitation\n",
    "## NA5 Activité économique regroupée en 5 postes\n",
    "## NPERR Nombre de personnes du ménage (regroupé)\n",
    "## REGION Région du lieu de résidence\n",
    "## REGLT Région du lieu de travail\n",
    "## SEXE Sexe\n",
    "## STAT Statut professionnel\n",
    "## STOCD Statut d'occupation détaillé du logement\n",
    "## TP Temps de travail\n",
    "## TRANS Mode de transport principal le plus souvent utilisé pour aller travailler\n",
    "## TYPL Type de logement\n",
    "## TYPMR Type de ménage regroupé (en 9 postes)\n",
    "## VOIT Nombre de voitures du ménage"
   ]
  },
  {
   "cell_type": "code",
   "execution_count": 6,
   "metadata": {},
   "outputs": [],
   "source": [
    "# Homogénéisation des codes insee (tous en chaîne de caractère)\n",
    "df_mobpro_brut[\"COMMUNE\"] = df_mobpro_brut[\"COMMUNE\"].astype(str).str.zfill(5)\n",
    "df_mobpro_brut[\"DCLT\"] = df_mobpro_brut[\"DCLT\"].astype(str).str.zfill(5)"
   ]
  },
  {
   "cell_type": "markdown",
   "metadata": {},
   "source": [
    "La fonction ci-dessous permet d'obtenir un premier tableau regroupant ceratines informations par commune :\n",
    "- Nombre de personnes du ménage (regroupé) (NPER)\n",
    "- Nombre de personnes scolarisées du ménage (INPSM)\n",
    "- Nombre de personnes actives ayant un emploi du ménage (INPOM)\n",
    "- Nombre d'élèves, étudiants ou stagiaires âgés de 14 ans ou plus du ménage (INEEM)\n",
    "- Indicateur du lieu de travail (ILT)\n",
    "(1 Dans la commune de résidence actuelle\n",
    "2 Dans une autre commune du département de résidence\n",
    "3 Dans un autre département de la région de résidence\n",
    "4 Hors de la région de résidence actuelle : en métropole\n",
    "5 Hors de la région de résidence actuelle : dans un DOM\n",
    "6 Hors de la région de résidence actuelle : dans une COM\n",
    "7 A l'étranger)\n",
    "Pas forcément le meilleur indicateur de pollution potentiellement engendrée pour se rendre au travail. Pour un frontalier qui se rend au travail à l'étranger, il sera catégorie 7 alors que son lieu de travail peut se trouver à quelques centaines de mètres de chez lui."
   ]
  },
  {
   "cell_type": "code",
   "execution_count": 7,
   "metadata": {},
   "outputs": [],
   "source": [
    "# Conversion des colonnes en numérique\n",
    "df_mobpro_brut['NPERR'] = pd.to_numeric(df_mobpro_brut['NPERR'], errors='coerce')\n",
    "df_mobpro_brut['INPSM'] = pd.to_numeric(df_mobpro_brut['INPSM'], errors='coerce')\n",
    "df_mobpro_brut['INPOM'] = pd.to_numeric(df_mobpro_brut['INPOM'], errors='coerce')\n",
    "df_mobpro_brut['INEEM'] = pd.to_numeric(df_mobpro_brut['INEEM'], errors='coerce')\n",
    "\n",
    "# Création des agrégations de base : les données ne seront plus par ménage mais par ville\n",
    "mobpro_villes = df_mobpro_brut.groupby('COMMUNE').agg({\n",
    "    'NPERR': 'sum',\n",
    "    'INPSM': 'sum',\n",
    "    'INPOM': 'sum',\n",
    "    'INEEM': 'sum'})\n",
    "\n",
    "# Créons d'abord un DataFrame temporaire pour chaque valeur d'ILT\n",
    "for i in range(1, 8):\n",
    "    # Grouper par COMMUNE et compter les occurrences où ILT == str(i)\n",
    "    temp_count = df_mobpro_brut[df_mobpro_brut['ILT'] == i].groupby('COMMUNE').size()\n",
    "    # Ajouter cette série au DataFrame principal\n",
    "    mobpro_villes[f'ILT_{i}'] = temp_count\n",
    "\n",
    "# Remplir les valeurs manquantes (NaN) par 0\n",
    "mobpro_villes = mobpro_villes.fillna(0)\n",
    "\n",
    "# Réinitialisation de l'index\n",
    "mobpro_villes = mobpro_villes.reset_index()\n"
   ]
  },
  {
   "cell_type": "code",
   "execution_count": null,
   "metadata": {},
   "outputs": [],
   "source": [
    "mobpro_villes"
   ]
  },
  {
   "cell_type": "code",
   "execution_count": null,
   "metadata": {},
   "outputs": [],
   "source": [
    "# Création d'une table croisée dynamique pour compter les déplacements\n",
    "matrice_flux = pd.crosstab(df_mobpro_brut['COMMUNE'], df_mobpro_brut['DCLT'])\n",
    "\n",
    "# Conversion en DataFrame pour plus de clarté\n",
    "matrice_flux = pd.DataFrame(matrice_flux)\n",
    "\n",
    "# matrice_flux = matrice_flux.reset_index() si jamais on veut réinitialiser l'index pour avoir COMMUNE comme colonne\n",
    "\n",
    "print(\"Dimensions de la matrice :\", matrice_flux.shape)"
   ]
  },
  {
   "cell_type": "code",
   "execution_count": null,
   "metadata": {},
   "outputs": [],
   "source": [
    "matrice_flux"
   ]
  },
  {
   "cell_type": "code",
   "execution_count": 11,
   "metadata": {},
   "outputs": [],
   "source": [
    "def flux(ville_a,ville_b):\n",
    "    ## Prends en arg deux codes insee en chaîne de caractère et renvoie le nombre de commute entre ces deux villes\n",
    "    flux = matrice_flux.loc[ville_a, ville_b]\n",
    "    print(f\"Nombre de personnes se déplaçant de {ville_a} vers {ville_b} : {flux}\")\n"
   ]
  },
  {
   "cell_type": "code",
   "execution_count": null,
   "metadata": {},
   "outputs": [],
   "source": [
    "flux('78220', '75108')"
   ]
  },
  {
   "cell_type": "code",
   "execution_count": null,
   "metadata": {},
   "outputs": [],
   "source": [
    "Problème:\n",
    "Pour COMMUNE (commune de résidence) on a uniquement 75056 pour Paris (idem pour Lyon et Marseille sûrement)\n",
    "Pour DCLT (commune de travail) on a un découpage en arrondissement avec les codes 75101,... pour Paris (idem pour Lyon et Marseille sûrement)\n"
   ]
  },
  {
   "cell_type": "code",
   "execution_count": null,
   "metadata": {},
   "outputs": [],
   "source": []
  }
 ],
 "metadata": {
  "kernelspec": {
   "display_name": "base",
   "language": "python",
   "name": "python3"
  },
  "language_info": {
   "codemirror_mode": {
    "name": "ipython",
    "version": 3
   },
   "file_extension": ".py",
   "mimetype": "text/x-python",
   "name": "python",
   "nbconvert_exporter": "python",
   "pygments_lexer": "ipython3",
   "version": "3.12.7"
  }
 },
 "nbformat": 4,
 "nbformat_minor": 2
}
